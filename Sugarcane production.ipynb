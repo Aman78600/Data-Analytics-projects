{
 "cells": [
  {
   "cell_type": "code",
   "execution_count": 1,
   "id": "4358b697",
   "metadata": {},
   "outputs": [],
   "source": [
    "import numpy as np\n",
    "import pandas as pd\n",
    "import seaborn as sns\n",
    "import matplotlib.pyplot as plt"
   ]
  },
  {
   "cell_type": "code",
   "execution_count": 71,
   "id": "3b308e33",
   "metadata": {},
   "outputs": [],
   "source": [
    "data=pd.read_csv('List of Countries by Sugarcane Production.csv')"
   ]
  },
  {
   "cell_type": "code",
   "execution_count": 72,
   "id": "eac13b91",
   "metadata": {},
   "outputs": [
    {
     "data": {
      "text/html": [
       "<div>\n",
       "<style scoped>\n",
       "    .dataframe tbody tr th:only-of-type {\n",
       "        vertical-align: middle;\n",
       "    }\n",
       "\n",
       "    .dataframe tbody tr th {\n",
       "        vertical-align: top;\n",
       "    }\n",
       "\n",
       "    .dataframe thead th {\n",
       "        text-align: right;\n",
       "    }\n",
       "</style>\n",
       "<table border=\"1\" class=\"dataframe\">\n",
       "  <thead>\n",
       "    <tr style=\"text-align: right;\">\n",
       "      <th></th>\n",
       "      <th>Unnamed: 0</th>\n",
       "      <th>Country</th>\n",
       "      <th>Continent</th>\n",
       "      <th>Production (Tons)</th>\n",
       "      <th>Production per Person (Kg)</th>\n",
       "      <th>Acreage (Hectare)</th>\n",
       "      <th>Yield (Kg / Hectare)</th>\n",
       "    </tr>\n",
       "  </thead>\n",
       "  <tbody>\n",
       "    <tr>\n",
       "      <th>0</th>\n",
       "      <td>0</td>\n",
       "      <td>Brazil</td>\n",
       "      <td>South America</td>\n",
       "      <td>768.678.382</td>\n",
       "      <td>3.668,531</td>\n",
       "      <td>10.226.205</td>\n",
       "      <td>75.167,5</td>\n",
       "    </tr>\n",
       "    <tr>\n",
       "      <th>1</th>\n",
       "      <td>1</td>\n",
       "      <td>India</td>\n",
       "      <td>Asia</td>\n",
       "      <td>348.448.000</td>\n",
       "      <td>260721</td>\n",
       "      <td>4.950.000</td>\n",
       "      <td>70.393,5</td>\n",
       "    </tr>\n",
       "    <tr>\n",
       "      <th>2</th>\n",
       "      <td>2</td>\n",
       "      <td>China</td>\n",
       "      <td>Asia</td>\n",
       "      <td>123.059.739</td>\n",
       "      <td>88287</td>\n",
       "      <td>1.675.215</td>\n",
       "      <td>73.459,1</td>\n",
       "    </tr>\n",
       "    <tr>\n",
       "      <th>3</th>\n",
       "      <td>3</td>\n",
       "      <td>Thailand</td>\n",
       "      <td>Asia</td>\n",
       "      <td>87.468.496</td>\n",
       "      <td>1.264,303</td>\n",
       "      <td>1.336.575</td>\n",
       "      <td>65.442,2</td>\n",
       "    </tr>\n",
       "    <tr>\n",
       "      <th>4</th>\n",
       "      <td>4</td>\n",
       "      <td>Pakistan</td>\n",
       "      <td>Asia</td>\n",
       "      <td>65.450.704</td>\n",
       "      <td>324219</td>\n",
       "      <td>1.130.820</td>\n",
       "      <td>57.879</td>\n",
       "    </tr>\n",
       "  </tbody>\n",
       "</table>\n",
       "</div>"
      ],
      "text/plain": [
       "   Unnamed: 0   Country      Continent Production (Tons)   \n",
       "0           0    Brazil  South America       768.678.382  \\\n",
       "1           1     India           Asia       348.448.000   \n",
       "2           2     China           Asia       123.059.739   \n",
       "3           3  Thailand           Asia        87.468.496   \n",
       "4           4  Pakistan           Asia        65.450.704   \n",
       "\n",
       "  Production per Person (Kg) Acreage (Hectare) Yield (Kg / Hectare)  \n",
       "0                  3.668,531        10.226.205             75.167,5  \n",
       "1                     260721         4.950.000             70.393,5  \n",
       "2                      88287         1.675.215             73.459,1  \n",
       "3                  1.264,303         1.336.575             65.442,2  \n",
       "4                     324219         1.130.820               57.879  "
      ]
     },
     "execution_count": 72,
     "metadata": {},
     "output_type": "execute_result"
    }
   ],
   "source": [
    "data.head()"
   ]
  },
  {
   "cell_type": "code",
   "execution_count": 73,
   "id": "1ba46c92",
   "metadata": {},
   "outputs": [
    {
     "data": {
      "text/plain": [
       "(103, 7)"
      ]
     },
     "execution_count": 73,
     "metadata": {},
     "output_type": "execute_result"
    }
   ],
   "source": [
    "data.shape"
   ]
  },
  {
   "cell_type": "code",
   "execution_count": 74,
   "id": "32109815",
   "metadata": {},
   "outputs": [
    {
     "name": "stdout",
     "output_type": "stream",
     "text": [
      "<class 'pandas.core.frame.DataFrame'>\n",
      "RangeIndex: 103 entries, 0 to 102\n",
      "Data columns (total 7 columns):\n",
      " #   Column                      Non-Null Count  Dtype \n",
      "---  ------                      --------------  ----- \n",
      " 0   Unnamed: 0                  103 non-null    int64 \n",
      " 1   Country                     103 non-null    object\n",
      " 2   Continent                   103 non-null    object\n",
      " 3   Production (Tons)           103 non-null    object\n",
      " 4   Production per Person (Kg)  103 non-null    object\n",
      " 5   Acreage (Hectare)           102 non-null    object\n",
      " 6   Yield (Kg / Hectare)        102 non-null    object\n",
      "dtypes: int64(1), object(6)\n",
      "memory usage: 5.8+ KB\n"
     ]
    }
   ],
   "source": [
    "data.info()"
   ]
  },
  {
   "cell_type": "code",
   "execution_count": 75,
   "id": "d9c6efb0",
   "metadata": {},
   "outputs": [],
   "source": [
    "def strip_dots(x):\n",
    "    return x.replace('.','').replace(',','.')"
   ]
  },
  {
   "cell_type": "code",
   "execution_count": 76,
   "id": "0bfde558",
   "metadata": {},
   "outputs": [],
   "source": [
    "\n",
    "data['Production (Tons)']=data['Production (Tons)'].astype('str').apply(strip_dots).astype('float')"
   ]
  },
  {
   "cell_type": "code",
   "execution_count": 77,
   "id": "baa3fefe",
   "metadata": {},
   "outputs": [],
   "source": [
    "data['Production per Person (Kg)']=data['Production per Person (Kg)'].astype('str').apply(strip_dots).astype('float')"
   ]
  },
  {
   "cell_type": "code",
   "execution_count": 78,
   "id": "725e020f",
   "metadata": {},
   "outputs": [],
   "source": [
    "data['Acreage (Hectare)']=data['Acreage (Hectare)'].astype('str').apply(strip_dots).astype('float')"
   ]
  },
  {
   "cell_type": "code",
   "execution_count": 79,
   "id": "318bb30f",
   "metadata": {},
   "outputs": [],
   "source": [
    "data['Yield (Kg / Hectare)']=data['Yield (Kg / Hectare)'].astype('str').apply(strip_dots).astype('float')"
   ]
  },
  {
   "cell_type": "code",
   "execution_count": 80,
   "id": "9159d2cd",
   "metadata": {},
   "outputs": [
    {
     "data": {
      "text/html": [
       "<div>\n",
       "<style scoped>\n",
       "    .dataframe tbody tr th:only-of-type {\n",
       "        vertical-align: middle;\n",
       "    }\n",
       "\n",
       "    .dataframe tbody tr th {\n",
       "        vertical-align: top;\n",
       "    }\n",
       "\n",
       "    .dataframe thead th {\n",
       "        text-align: right;\n",
       "    }\n",
       "</style>\n",
       "<table border=\"1\" class=\"dataframe\">\n",
       "  <thead>\n",
       "    <tr style=\"text-align: right;\">\n",
       "      <th></th>\n",
       "      <th>Unnamed: 0</th>\n",
       "      <th>Country</th>\n",
       "      <th>Continent</th>\n",
       "      <th>Production (Tons)</th>\n",
       "      <th>Production per Person (Kg)</th>\n",
       "      <th>Acreage (Hectare)</th>\n",
       "      <th>Yield (Kg / Hectare)</th>\n",
       "    </tr>\n",
       "  </thead>\n",
       "  <tbody>\n",
       "    <tr>\n",
       "      <th>0</th>\n",
       "      <td>0</td>\n",
       "      <td>Brazil</td>\n",
       "      <td>South America</td>\n",
       "      <td>768678382.0</td>\n",
       "      <td>3668.531</td>\n",
       "      <td>10226205.0</td>\n",
       "      <td>75167.5</td>\n",
       "    </tr>\n",
       "    <tr>\n",
       "      <th>1</th>\n",
       "      <td>1</td>\n",
       "      <td>India</td>\n",
       "      <td>Asia</td>\n",
       "      <td>348448000.0</td>\n",
       "      <td>260721.000</td>\n",
       "      <td>4950000.0</td>\n",
       "      <td>70393.5</td>\n",
       "    </tr>\n",
       "    <tr>\n",
       "      <th>2</th>\n",
       "      <td>2</td>\n",
       "      <td>China</td>\n",
       "      <td>Asia</td>\n",
       "      <td>123059739.0</td>\n",
       "      <td>88287.000</td>\n",
       "      <td>1675215.0</td>\n",
       "      <td>73459.1</td>\n",
       "    </tr>\n",
       "    <tr>\n",
       "      <th>3</th>\n",
       "      <td>3</td>\n",
       "      <td>Thailand</td>\n",
       "      <td>Asia</td>\n",
       "      <td>87468496.0</td>\n",
       "      <td>1264.303</td>\n",
       "      <td>1336575.0</td>\n",
       "      <td>65442.2</td>\n",
       "    </tr>\n",
       "    <tr>\n",
       "      <th>4</th>\n",
       "      <td>4</td>\n",
       "      <td>Pakistan</td>\n",
       "      <td>Asia</td>\n",
       "      <td>65450704.0</td>\n",
       "      <td>324219.000</td>\n",
       "      <td>1130820.0</td>\n",
       "      <td>57879.0</td>\n",
       "    </tr>\n",
       "  </tbody>\n",
       "</table>\n",
       "</div>"
      ],
      "text/plain": [
       "   Unnamed: 0   Country      Continent  Production (Tons)   \n",
       "0           0    Brazil  South America        768678382.0  \\\n",
       "1           1     India           Asia        348448000.0   \n",
       "2           2     China           Asia        123059739.0   \n",
       "3           3  Thailand           Asia         87468496.0   \n",
       "4           4  Pakistan           Asia         65450704.0   \n",
       "\n",
       "   Production per Person (Kg)  Acreage (Hectare)  Yield (Kg / Hectare)  \n",
       "0                    3668.531         10226205.0               75167.5  \n",
       "1                  260721.000          4950000.0               70393.5  \n",
       "2                   88287.000          1675215.0               73459.1  \n",
       "3                    1264.303          1336575.0               65442.2  \n",
       "4                  324219.000          1130820.0               57879.0  "
      ]
     },
     "execution_count": 80,
     "metadata": {},
     "output_type": "execute_result"
    }
   ],
   "source": [
    "data.head()"
   ]
  },
  {
   "cell_type": "markdown",
   "id": "b4b0a19d",
   "metadata": {},
   "source": [
    "# Univarian analysis\n"
   ]
  },
  {
   "cell_type": "code",
   "execution_count": 81,
   "id": "3ae8dabc",
   "metadata": {},
   "outputs": [
    {
     "data": {
      "text/html": [
       "<div>\n",
       "<style scoped>\n",
       "    .dataframe tbody tr th:only-of-type {\n",
       "        vertical-align: middle;\n",
       "    }\n",
       "\n",
       "    .dataframe tbody tr th {\n",
       "        vertical-align: top;\n",
       "    }\n",
       "\n",
       "    .dataframe thead th {\n",
       "        text-align: right;\n",
       "    }\n",
       "</style>\n",
       "<table border=\"1\" class=\"dataframe\">\n",
       "  <thead>\n",
       "    <tr style=\"text-align: right;\">\n",
       "      <th></th>\n",
       "      <th>Unnamed: 0</th>\n",
       "      <th>Production (Tons)</th>\n",
       "      <th>Production per Person (Kg)</th>\n",
       "      <th>Acreage (Hectare)</th>\n",
       "      <th>Yield (Kg / Hectare)</th>\n",
       "    </tr>\n",
       "  </thead>\n",
       "  <tbody>\n",
       "    <tr>\n",
       "      <th>count</th>\n",
       "      <td>103.000000</td>\n",
       "      <td>1.030000e+02</td>\n",
       "      <td>103.000000</td>\n",
       "      <td>1.020000e+02</td>\n",
       "      <td>102.000000</td>\n",
       "    </tr>\n",
       "    <tr>\n",
       "      <th>mean</th>\n",
       "      <td>51.000000</td>\n",
       "      <td>1.832407e+07</td>\n",
       "      <td>111856.305311</td>\n",
       "      <td>2.498981e+05</td>\n",
       "      <td>52628.078431</td>\n",
       "    </tr>\n",
       "    <tr>\n",
       "      <th>std</th>\n",
       "      <td>29.877528</td>\n",
       "      <td>8.379760e+07</td>\n",
       "      <td>176134.928689</td>\n",
       "      <td>1.137003e+06</td>\n",
       "      <td>30504.676683</td>\n",
       "    </tr>\n",
       "    <tr>\n",
       "      <th>min</th>\n",
       "      <td>0.000000</td>\n",
       "      <td>1.000000e+00</td>\n",
       "      <td>0.000000</td>\n",
       "      <td>0.000000e+00</td>\n",
       "      <td>10.000000</td>\n",
       "    </tr>\n",
       "    <tr>\n",
       "      <th>25%</th>\n",
       "      <td>25.500000</td>\n",
       "      <td>4.298850e+04</td>\n",
       "      <td>3364.869000</td>\n",
       "      <td>1.104000e+03</td>\n",
       "      <td>29072.025000</td>\n",
       "    </tr>\n",
       "    <tr>\n",
       "      <th>50%</th>\n",
       "      <td>51.000000</td>\n",
       "      <td>1.422432e+06</td>\n",
       "      <td>25481.000000</td>\n",
       "      <td>1.655800e+04</td>\n",
       "      <td>54108.950000</td>\n",
       "    </tr>\n",
       "    <tr>\n",
       "      <th>75%</th>\n",
       "      <td>76.500000</td>\n",
       "      <td>6.145648e+06</td>\n",
       "      <td>144004.500000</td>\n",
       "      <td>8.047400e+04</td>\n",
       "      <td>73282.700000</td>\n",
       "    </tr>\n",
       "    <tr>\n",
       "      <th>max</th>\n",
       "      <td>102.000000</td>\n",
       "      <td>7.686784e+08</td>\n",
       "      <td>951087.000000</td>\n",
       "      <td>1.022620e+07</td>\n",
       "      <td>129049.300000</td>\n",
       "    </tr>\n",
       "  </tbody>\n",
       "</table>\n",
       "</div>"
      ],
      "text/plain": [
       "       Unnamed: 0  Production (Tons)  Production per Person (Kg)   \n",
       "count  103.000000       1.030000e+02                  103.000000  \\\n",
       "mean    51.000000       1.832407e+07               111856.305311   \n",
       "std     29.877528       8.379760e+07               176134.928689   \n",
       "min      0.000000       1.000000e+00                    0.000000   \n",
       "25%     25.500000       4.298850e+04                 3364.869000   \n",
       "50%     51.000000       1.422432e+06                25481.000000   \n",
       "75%     76.500000       6.145648e+06               144004.500000   \n",
       "max    102.000000       7.686784e+08               951087.000000   \n",
       "\n",
       "       Acreage (Hectare)  Yield (Kg / Hectare)  \n",
       "count       1.020000e+02            102.000000  \n",
       "mean        2.498981e+05          52628.078431  \n",
       "std         1.137003e+06          30504.676683  \n",
       "min         0.000000e+00             10.000000  \n",
       "25%         1.104000e+03          29072.025000  \n",
       "50%         1.655800e+04          54108.950000  \n",
       "75%         8.047400e+04          73282.700000  \n",
       "max         1.022620e+07         129049.300000  "
      ]
     },
     "execution_count": 81,
     "metadata": {},
     "output_type": "execute_result"
    }
   ],
   "source": [
    "data.describe()"
   ]
  },
  {
   "cell_type": "code",
   "execution_count": 90,
   "id": "b7c57ed6",
   "metadata": {},
   "outputs": [
    {
     "data": {
      "text/plain": [
       "array(['Brazil', 'India', 'China', 'Thailand', 'Pakistan', 'Mexico',\n",
       "       'Colombia', 'Australia', 'Guatemala', 'United States of America',\n",
       "       'Indonesia', 'Philippines', 'Argentina', 'Cuba', 'Vietnam',\n",
       "       'Egypt', 'South Africa', 'Myanmar', 'Peru', 'Ecuador', 'Iran',\n",
       "       'El Salvador', 'Kenya', 'Bolivia', 'Nicaragua', 'Paraguay',\n",
       "       'Swaziland', 'Sudan', 'Honduras', 'Dominican Republic', 'Nepal',\n",
       "       'Zambia', 'Bangladesh', 'Costa Rica', 'Mauritius', 'Uganda',\n",
       "       'Zimbabwe', 'Venezuela', 'Madagascar', 'Tanzania', 'Malawi',\n",
       "       'Mozambique', 'Panama', 'Guyana', 'Congo-Kinshasa', 'Laos',\n",
       "       \"Côte d'Ivoire\", 'Japan', 'Fiji', 'Haiti', 'Belize', 'Jamaica',\n",
       "       'Ethiopia', 'Nigeria', 'Cameroon', 'Trinidad and Tobago',\n",
       "       'Sri Lanka', 'Senegal', 'Congo-Brazzaville', 'Cambodia', 'Angola',\n",
       "       'Burkina Faso', 'Chad', 'Morocco', 'Taiwan', 'Uruguay', 'Mali',\n",
       "       'Guinea', 'Gabon', 'Liberia', 'Burundi', 'Papua New Guinea',\n",
       "       'Niger', 'Somalia', 'Ghana', 'Suriname',\n",
       "       'Central African Republic', 'Saint Kitts and Nevis', 'Rwanda',\n",
       "       'Barbados', 'Sierra Leone', 'The Bahamas', 'Cape Verde',\n",
       "       'Saint Vincent and the Grenadines', 'Afghanistan', 'Bhutan',\n",
       "       'Benin', 'Iraq', 'Saint Lucia', 'Grenada', 'Guinea-Bissau',\n",
       "       'Malaysia', 'Portugal', 'Antigua and Barbuda', 'Dominica', 'Oman',\n",
       "       'Yemen', 'Spain', 'Lebanon', 'Djibouti', 'Singapore', 'Samoa',\n",
       "       'Syria'], dtype=object)"
      ]
     },
     "execution_count": 90,
     "metadata": {},
     "output_type": "execute_result"
    }
   ],
   "source": [
    "data['Country'].unique()"
   ]
  },
  {
   "cell_type": "markdown",
   "id": "43930519",
   "metadata": {},
   "source": [
    "# maximum Production country"
   ]
  },
  {
   "cell_type": "code",
   "execution_count": 91,
   "id": "0f015a6f",
   "metadata": {},
   "outputs": [
    {
     "data": {
      "text/html": [
       "<div>\n",
       "<style scoped>\n",
       "    .dataframe tbody tr th:only-of-type {\n",
       "        vertical-align: middle;\n",
       "    }\n",
       "\n",
       "    .dataframe tbody tr th {\n",
       "        vertical-align: top;\n",
       "    }\n",
       "\n",
       "    .dataframe thead th {\n",
       "        text-align: right;\n",
       "    }\n",
       "</style>\n",
       "<table border=\"1\" class=\"dataframe\">\n",
       "  <thead>\n",
       "    <tr style=\"text-align: right;\">\n",
       "      <th></th>\n",
       "      <th>Unnamed: 0</th>\n",
       "      <th>Country</th>\n",
       "      <th>Continent</th>\n",
       "      <th>Production (Tons)</th>\n",
       "      <th>Production per Person (Kg)</th>\n",
       "      <th>Acreage (Hectare)</th>\n",
       "      <th>Yield (Kg / Hectare)</th>\n",
       "    </tr>\n",
       "  </thead>\n",
       "  <tbody>\n",
       "    <tr>\n",
       "      <th>0</th>\n",
       "      <td>0</td>\n",
       "      <td>Brazil</td>\n",
       "      <td>South America</td>\n",
       "      <td>768678382.0</td>\n",
       "      <td>3668.531</td>\n",
       "      <td>10226205.0</td>\n",
       "      <td>75167.5</td>\n",
       "    </tr>\n",
       "  </tbody>\n",
       "</table>\n",
       "</div>"
      ],
      "text/plain": [
       "   Unnamed: 0 Country      Continent  Production (Tons)   \n",
       "0           0  Brazil  South America        768678382.0  \\\n",
       "\n",
       "   Production per Person (Kg)  Acreage (Hectare)  Yield (Kg / Hectare)  \n",
       "0                    3668.531         10226205.0               75167.5  "
      ]
     },
     "execution_count": 91,
     "metadata": {},
     "output_type": "execute_result"
    }
   ],
   "source": [
    "data[data['Production (Tons)']==data['Production (Tons)'].max()]"
   ]
  },
  {
   "cell_type": "code",
   "execution_count": 93,
   "id": "ce1f88b4",
   "metadata": {},
   "outputs": [],
   "source": [
    "ne_df=data[['Country','Production (Tons)']].set_index(\"Country\")"
   ]
  },
  {
   "cell_type": "code",
   "execution_count": 100,
   "id": "c9c1026e",
   "metadata": {},
   "outputs": [],
   "source": [
    "ne_df['production(tons)pct']=ne_df['Production (Tons)']*100/ne_df['Production (Tons)'].sum()\n"
   ]
  },
  {
   "cell_type": "code",
   "execution_count": 101,
   "id": "da9f7462",
   "metadata": {},
   "outputs": [
    {
     "data": {
      "text/html": [
       "<div>\n",
       "<style scoped>\n",
       "    .dataframe tbody tr th:only-of-type {\n",
       "        vertical-align: middle;\n",
       "    }\n",
       "\n",
       "    .dataframe tbody tr th {\n",
       "        vertical-align: top;\n",
       "    }\n",
       "\n",
       "    .dataframe thead th {\n",
       "        text-align: right;\n",
       "    }\n",
       "</style>\n",
       "<table border=\"1\" class=\"dataframe\">\n",
       "  <thead>\n",
       "    <tr style=\"text-align: right;\">\n",
       "      <th></th>\n",
       "      <th>Production (Tons)</th>\n",
       "      <th>production(tons)pct</th>\n",
       "    </tr>\n",
       "    <tr>\n",
       "      <th>Country</th>\n",
       "      <th></th>\n",
       "      <th></th>\n",
       "    </tr>\n",
       "  </thead>\n",
       "  <tbody>\n",
       "    <tr>\n",
       "      <th>Brazil</th>\n",
       "      <td>768678382.0</td>\n",
       "      <td>4.072728e+01</td>\n",
       "    </tr>\n",
       "    <tr>\n",
       "      <th>India</th>\n",
       "      <td>348448000.0</td>\n",
       "      <td>1.846200e+01</td>\n",
       "    </tr>\n",
       "    <tr>\n",
       "      <th>China</th>\n",
       "      <td>123059739.0</td>\n",
       "      <td>6.520138e+00</td>\n",
       "    </tr>\n",
       "    <tr>\n",
       "      <th>Thailand</th>\n",
       "      <td>87468496.0</td>\n",
       "      <td>4.634389e+00</td>\n",
       "    </tr>\n",
       "    <tr>\n",
       "      <th>Pakistan</th>\n",
       "      <td>65450704.0</td>\n",
       "      <td>3.467809e+00</td>\n",
       "    </tr>\n",
       "    <tr>\n",
       "      <th>...</th>\n",
       "      <td>...</td>\n",
       "      <td>...</td>\n",
       "    </tr>\n",
       "    <tr>\n",
       "      <th>Lebanon</th>\n",
       "      <td>97.0</td>\n",
       "      <td>5.139401e-06</td>\n",
       "    </tr>\n",
       "    <tr>\n",
       "      <th>Djibouti</th>\n",
       "      <td>53.0</td>\n",
       "      <td>2.808126e-06</td>\n",
       "    </tr>\n",
       "    <tr>\n",
       "      <th>Singapore</th>\n",
       "      <td>50.0</td>\n",
       "      <td>2.649176e-06</td>\n",
       "    </tr>\n",
       "    <tr>\n",
       "      <th>Samoa</th>\n",
       "      <td>12.0</td>\n",
       "      <td>6.358022e-07</td>\n",
       "    </tr>\n",
       "    <tr>\n",
       "      <th>Syria</th>\n",
       "      <td>1.0</td>\n",
       "      <td>5.298352e-08</td>\n",
       "    </tr>\n",
       "  </tbody>\n",
       "</table>\n",
       "<p>103 rows × 2 columns</p>\n",
       "</div>"
      ],
      "text/plain": [
       "           Production (Tons)  production(tons)pct\n",
       "Country                                          \n",
       "Brazil           768678382.0         4.072728e+01\n",
       "India            348448000.0         1.846200e+01\n",
       "China            123059739.0         6.520138e+00\n",
       "Thailand          87468496.0         4.634389e+00\n",
       "Pakistan          65450704.0         3.467809e+00\n",
       "...                      ...                  ...\n",
       "Lebanon                 97.0         5.139401e-06\n",
       "Djibouti                53.0         2.808126e-06\n",
       "Singapore               50.0         2.649176e-06\n",
       "Samoa                   12.0         6.358022e-07\n",
       "Syria                    1.0         5.298352e-08\n",
       "\n",
       "[103 rows x 2 columns]"
      ]
     },
     "execution_count": 101,
     "metadata": {},
     "output_type": "execute_result"
    }
   ],
   "source": [
    "ne_df"
   ]
  },
  {
   "cell_type": "code",
   "execution_count": 104,
   "id": "19d78869",
   "metadata": {},
   "outputs": [
    {
     "data": {
      "text/plain": [
       "<Axes: ylabel='production(tons)pct'>"
      ]
     },
     "execution_count": 104,
     "metadata": {},
     "output_type": "execute_result"
    },
    {
     "data": {
      "image/png": "[encoded data removed]",
      "text/plain": [
       "<Figure size 640x480 with 1 Axes>"
      ]
     },
     "metadata": {},
     "output_type": "display_data"
    }
   ],
   "source": [
    "ne_df['production(tons)pct'].plot(kind='pie')"
   ]
  },
  {
   "cell_type": "markdown",
   "id": "60ae07e6",
   "metadata": {},
   "source": [
    "# which cuntry has highest lend?"
   ]
  },
  {
   "cell_type": "code",
   "execution_count": 127,
   "id": "3d783b3e",
   "metadata": {},
   "outputs": [
    {
     "data": {
      "image/png": "[encoded data removed]",
      "text/plain": [
       "<Figure size 640x480 with 1 Axes>"
      ]
     },
     "metadata": {},
     "output_type": "display_data"
    }
   ],
   "source": [
    "\n",
    "d=data.sort_values('Acreage (Hectare)',ascending=False).head(10).plot(kind='bar',x='Country',y='Acreage (Hectare)')\n",
    "# ax=sns.barplot(data=d,x='Country',y='Acreage (Hectare)')\n",
    "# ax.set_xticklabels(ax.get_xticklabels(),rotation=90)\n",
    "# plt.show()\n"
   ]
  },
  {
   "cell_type": "markdown",
   "id": "65f0edac",
   "metadata": {},
   "source": [
    "Brazil has highest lend."
   ]
  },
  {
   "cell_type": "markdown",
   "id": "5c685a7a",
   "metadata": {},
   "source": [
    "which country has highest yield per hectare ?"
   ]
  },
  {
   "cell_type": "code",
   "execution_count": 128,
   "id": "6417297f",
   "metadata": {},
   "outputs": [
    {
     "data": {
      "text/html": [
       "<div>\n",
       "<style scoped>\n",
       "    .dataframe tbody tr th:only-of-type {\n",
       "        vertical-align: middle;\n",
       "    }\n",
       "\n",
       "    .dataframe tbody tr th {\n",
       "        vertical-align: top;\n",
       "    }\n",
       "\n",
       "    .dataframe thead th {\n",
       "        text-align: right;\n",
       "    }\n",
       "</style>\n",
       "<table border=\"1\" class=\"dataframe\">\n",
       "  <thead>\n",
       "    <tr style=\"text-align: right;\">\n",
       "      <th></th>\n",
       "      <th>Unnamed: 0</th>\n",
       "      <th>Country</th>\n",
       "      <th>Continent</th>\n",
       "      <th>Production (Tons)</th>\n",
       "      <th>Production per Person (Kg)</th>\n",
       "      <th>Acreage (Hectare)</th>\n",
       "      <th>Yield (Kg / Hectare)</th>\n",
       "    </tr>\n",
       "  </thead>\n",
       "  <tbody>\n",
       "    <tr>\n",
       "      <th>0</th>\n",
       "      <td>0</td>\n",
       "      <td>Brazil</td>\n",
       "      <td>South America</td>\n",
       "      <td>768678382.0</td>\n",
       "      <td>3668.531</td>\n",
       "      <td>10226205.0</td>\n",
       "      <td>75167.5</td>\n",
       "    </tr>\n",
       "    <tr>\n",
       "      <th>1</th>\n",
       "      <td>1</td>\n",
       "      <td>India</td>\n",
       "      <td>Asia</td>\n",
       "      <td>348448000.0</td>\n",
       "      <td>260721.000</td>\n",
       "      <td>4950000.0</td>\n",
       "      <td>70393.5</td>\n",
       "    </tr>\n",
       "  </tbody>\n",
       "</table>\n",
       "</div>"
      ],
      "text/plain": [
       "   Unnamed: 0 Country      Continent  Production (Tons)   \n",
       "0           0  Brazil  South America        768678382.0  \\\n",
       "1           1   India           Asia        348448000.0   \n",
       "\n",
       "   Production per Person (Kg)  Acreage (Hectare)  Yield (Kg / Hectare)  \n",
       "0                    3668.531         10226205.0               75167.5  \n",
       "1                  260721.000          4950000.0               70393.5  "
      ]
     },
     "execution_count": 128,
     "metadata": {},
     "output_type": "execute_result"
    }
   ],
   "source": [
    "data.head(2)"
   ]
  },
  {
   "cell_type": "code",
   "execution_count": 134,
   "id": "db79ba86",
   "metadata": {},
   "outputs": [
    {
     "data": {
      "text/plain": [
       "<Axes: xlabel='Country'>"
      ]
     },
     "execution_count": 134,
     "metadata": {},
     "output_type": "execute_result"
    },
    {
     "data": {
      "image/png": "[encoded data removed]",
      "text/plain": [
       "<Figure size 640x480 with 1 Axes>"
      ]
     },
     "metadata": {},
     "output_type": "display_data"
    }
   ],
   "source": [
    "data.sort_values('Yield (Kg / Hectare)',ascending=False).head(10).plot(kind='bar',x='Country',y='Yield (Kg / Hectare)')"
   ]
  },
  {
   "cell_type": "markdown",
   "id": "ff3fc255",
   "metadata": {},
   "source": [
    "# highest production ?"
   ]
  },
  {
   "cell_type": "code",
   "execution_count": 135,
   "id": "9bc8dcf7",
   "metadata": {},
   "outputs": [
    {
     "data": {
      "text/html": [
       "<div>\n",
       "<style scoped>\n",
       "    .dataframe tbody tr th:only-of-type {\n",
       "        vertical-align: middle;\n",
       "    }\n",
       "\n",
       "    .dataframe tbody tr th {\n",
       "        vertical-align: top;\n",
       "    }\n",
       "\n",
       "    .dataframe thead th {\n",
       "        text-align: right;\n",
       "    }\n",
       "</style>\n",
       "<table border=\"1\" class=\"dataframe\">\n",
       "  <thead>\n",
       "    <tr style=\"text-align: right;\">\n",
       "      <th></th>\n",
       "      <th>Unnamed: 0</th>\n",
       "      <th>Country</th>\n",
       "      <th>Continent</th>\n",
       "      <th>Production (Tons)</th>\n",
       "      <th>Production per Person (Kg)</th>\n",
       "      <th>Acreage (Hectare)</th>\n",
       "      <th>Yield (Kg / Hectare)</th>\n",
       "    </tr>\n",
       "  </thead>\n",
       "  <tbody>\n",
       "    <tr>\n",
       "      <th>0</th>\n",
       "      <td>0</td>\n",
       "      <td>Brazil</td>\n",
       "      <td>South America</td>\n",
       "      <td>768678382.0</td>\n",
       "      <td>3668.531</td>\n",
       "      <td>10226205.0</td>\n",
       "      <td>75167.5</td>\n",
       "    </tr>\n",
       "  </tbody>\n",
       "</table>\n",
       "</div>"
      ],
      "text/plain": [
       "   Unnamed: 0 Country      Continent  Production (Tons)   \n",
       "0           0  Brazil  South America        768678382.0  \\\n",
       "\n",
       "   Production per Person (Kg)  Acreage (Hectare)  Yield (Kg / Hectare)  \n",
       "0                    3668.531         10226205.0               75167.5  "
      ]
     },
     "execution_count": 135,
     "metadata": {},
     "output_type": "execute_result"
    }
   ],
   "source": [
    "data.head(1)"
   ]
  },
  {
   "cell_type": "code",
   "execution_count": 138,
   "id": "49c7ebc2",
   "metadata": {},
   "outputs": [
    {
     "data": {
      "text/plain": [
       "<Axes: xlabel='Country'>"
      ]
     },
     "execution_count": 138,
     "metadata": {},
     "output_type": "execute_result"
    },
    {
     "data": {
      "image/png": "[encoded data removed]",
      "text/plain": [
       "<Figure size 640x480 with 1 Axes>"
      ]
     },
     "metadata": {},
     "output_type": "display_data"
    }
   ],
   "source": [
    "data.sort_values('Production per Person (Kg)',ascending=False).head(10).plot(kind='bar',x='Country',y='Production per Person (Kg)')"
   ]
  },
  {
   "cell_type": "code",
   "execution_count": 139,
   "id": "5f9a6c93",
   "metadata": {},
   "outputs": [
    {
     "data": {
      "text/html": [
       "<div>\n",
       "<style scoped>\n",
       "    .dataframe tbody tr th:only-of-type {\n",
       "        vertical-align: middle;\n",
       "    }\n",
       "\n",
       "    .dataframe tbody tr th {\n",
       "        vertical-align: top;\n",
       "    }\n",
       "\n",
       "    .dataframe thead th {\n",
       "        text-align: right;\n",
       "    }\n",
       "</style>\n",
       "<table border=\"1\" class=\"dataframe\">\n",
       "  <thead>\n",
       "    <tr style=\"text-align: right;\">\n",
       "      <th></th>\n",
       "      <th>Unnamed: 0</th>\n",
       "      <th>Country</th>\n",
       "      <th>Continent</th>\n",
       "      <th>Production (Tons)</th>\n",
       "      <th>Production per Person (Kg)</th>\n",
       "      <th>Acreage (Hectare)</th>\n",
       "      <th>Yield (Kg / Hectare)</th>\n",
       "    </tr>\n",
       "  </thead>\n",
       "  <tbody>\n",
       "    <tr>\n",
       "      <th>0</th>\n",
       "      <td>0</td>\n",
       "      <td>Brazil</td>\n",
       "      <td>South America</td>\n",
       "      <td>768678382.0</td>\n",
       "      <td>3668.531</td>\n",
       "      <td>10226205.0</td>\n",
       "      <td>75167.5</td>\n",
       "    </tr>\n",
       "    <tr>\n",
       "      <th>1</th>\n",
       "      <td>1</td>\n",
       "      <td>India</td>\n",
       "      <td>Asia</td>\n",
       "      <td>348448000.0</td>\n",
       "      <td>260721.000</td>\n",
       "      <td>4950000.0</td>\n",
       "      <td>70393.5</td>\n",
       "    </tr>\n",
       "  </tbody>\n",
       "</table>\n",
       "</div>"
      ],
      "text/plain": [
       "   Unnamed: 0 Country      Continent  Production (Tons)   \n",
       "0           0  Brazil  South America        768678382.0  \\\n",
       "1           1   India           Asia        348448000.0   \n",
       "\n",
       "   Production per Person (Kg)  Acreage (Hectare)  Yield (Kg / Hectare)  \n",
       "0                    3668.531         10226205.0               75167.5  \n",
       "1                  260721.000          4950000.0               70393.5  "
      ]
     },
     "execution_count": 139,
     "metadata": {},
     "output_type": "execute_result"
    }
   ],
   "source": [
    "data.head(2)"
   ]
  },
  {
   "cell_type": "code",
   "execution_count": 47,
   "id": "832f10ed",
   "metadata": {},
   "outputs": [
    {
     "data": {
      "text/plain": [
       "array(['South America', 'Asia', 'North America', 'Oceania', 'Africa',\n",
       "       'Europe'], dtype=object)"
      ]
     },
     "execution_count": 47,
     "metadata": {},
     "output_type": "execute_result"
    }
   ],
   "source": [
    "data.Continent.unique()"
   ]
  },
  {
   "cell_type": "code",
   "execution_count": 142,
   "id": "67c86c02",
   "metadata": {},
   "outputs": [
    {
     "data": {
      "text/html": [
       "<div>\n",
       "<style scoped>\n",
       "    .dataframe tbody tr th:only-of-type {\n",
       "        vertical-align: middle;\n",
       "    }\n",
       "\n",
       "    .dataframe tbody tr th {\n",
       "        vertical-align: top;\n",
       "    }\n",
       "\n",
       "    .dataframe thead th {\n",
       "        text-align: right;\n",
       "    }\n",
       "</style>\n",
       "<table border=\"1\" class=\"dataframe\">\n",
       "  <thead>\n",
       "    <tr style=\"text-align: right;\">\n",
       "      <th></th>\n",
       "      <th>Unnamed: 0</th>\n",
       "      <th>Country</th>\n",
       "      <th>Production (Tons)</th>\n",
       "      <th>Production per Person (Kg)</th>\n",
       "      <th>Acreage (Hectare)</th>\n",
       "      <th>Yield (Kg / Hectare)</th>\n",
       "    </tr>\n",
       "    <tr>\n",
       "      <th>Continent</th>\n",
       "      <th></th>\n",
       "      <th></th>\n",
       "      <th></th>\n",
       "      <th></th>\n",
       "      <th></th>\n",
       "      <th></th>\n",
       "    </tr>\n",
       "  </thead>\n",
       "  <tbody>\n",
       "    <tr>\n",
       "      <th>Africa</th>\n",
       "      <td>2160</td>\n",
       "      <td>EgyptSouth AfricaKenyaSwazilandSudanZambiaMaur...</td>\n",
       "      <td>89681525.0</td>\n",
       "      <td>2332687.293</td>\n",
       "      <td>1439089.0</td>\n",
       "      <td>2142107.5</td>\n",
       "    </tr>\n",
       "    <tr>\n",
       "      <th>Asia</th>\n",
       "      <td>1253</td>\n",
       "      <td>IndiaChinaThailandPakistanIndonesiaPhilippines...</td>\n",
       "      <td>721930425.0</td>\n",
       "      <td>1857769.303</td>\n",
       "      <td>10608319.0</td>\n",
       "      <td>1171871.4</td>\n",
       "    </tr>\n",
       "    <tr>\n",
       "      <th>Europe</th>\n",
       "      <td>189</td>\n",
       "      <td>PortugalSpain</td>\n",
       "      <td>5823.0</td>\n",
       "      <td>536.000</td>\n",
       "      <td>71.0</td>\n",
       "      <td>131870.9</td>\n",
       "    </tr>\n",
       "    <tr>\n",
       "      <th>North America</th>\n",
       "      <td>1101</td>\n",
       "      <td>MexicoGuatemalaUnited States of AmericaCubaEl ...</td>\n",
       "      <td>173995947.0</td>\n",
       "      <td>3796081.508</td>\n",
       "      <td>1581983.0</td>\n",
       "      <td>1082602.4</td>\n",
       "    </tr>\n",
       "    <tr>\n",
       "      <th>Oceania</th>\n",
       "      <td>227</td>\n",
       "      <td>AustraliaFijiPapua New GuineaSamoa</td>\n",
       "      <td>36177574.0</td>\n",
       "      <td>28593.605</td>\n",
       "      <td>490909.0</td>\n",
       "      <td>162419.1</td>\n",
       "    </tr>\n",
       "    <tr>\n",
       "      <th>South America</th>\n",
       "      <td>323</td>\n",
       "      <td>BrazilColombiaArgentinaPeruEcuadorBoliviaParag...</td>\n",
       "      <td>865588126.0</td>\n",
       "      <td>3505531.738</td>\n",
       "      <td>11369236.0</td>\n",
       "      <td>677192.7</td>\n",
       "    </tr>\n",
       "  </tbody>\n",
       "</table>\n",
       "</div>"
      ],
      "text/plain": [
       "               Unnamed: 0                                            Country   \n",
       "Continent                                                                      \n",
       "Africa               2160  EgyptSouth AfricaKenyaSwazilandSudanZambiaMaur...  \\\n",
       "Asia                 1253  IndiaChinaThailandPakistanIndonesiaPhilippines...   \n",
       "Europe                189                                      PortugalSpain   \n",
       "North America        1101  MexicoGuatemalaUnited States of AmericaCubaEl ...   \n",
       "Oceania               227                 AustraliaFijiPapua New GuineaSamoa   \n",
       "South America         323  BrazilColombiaArgentinaPeruEcuadorBoliviaParag...   \n",
       "\n",
       "               Production (Tons)  Production per Person (Kg)   \n",
       "Continent                                                      \n",
       "Africa                89681525.0                 2332687.293  \\\n",
       "Asia                 721930425.0                 1857769.303   \n",
       "Europe                    5823.0                     536.000   \n",
       "North America        173995947.0                 3796081.508   \n",
       "Oceania               36177574.0                   28593.605   \n",
       "South America        865588126.0                 3505531.738   \n",
       "\n",
       "               Acreage (Hectare)  Yield (Kg / Hectare)  \n",
       "Continent                                               \n",
       "Africa                 1439089.0             2142107.5  \n",
       "Asia                  10608319.0             1171871.4  \n",
       "Europe                      71.0              131870.9  \n",
       "North America          1581983.0             1082602.4  \n",
       "Oceania                 490909.0              162419.1  \n",
       "South America         11369236.0              677192.7  "
      ]
     },
     "execution_count": 142,
     "metadata": {},
     "output_type": "execute_result"
    }
   ],
   "source": [
    "df=data.groupby('Continent').sum()\n",
    "df"
   ]
  },
  {
   "cell_type": "code",
   "execution_count": 145,
   "id": "94b39799",
   "metadata": {},
   "outputs": [],
   "source": [
    "df['number of Country']=data.groupby('Continent').count()['Country']"
   ]
  },
  {
   "cell_type": "code",
   "execution_count": 146,
   "id": "942711ce",
   "metadata": {},
   "outputs": [
    {
     "data": {
      "text/html": [
       "<div>\n",
       "<style scoped>\n",
       "    .dataframe tbody tr th:only-of-type {\n",
       "        vertical-align: middle;\n",
       "    }\n",
       "\n",
       "    .dataframe tbody tr th {\n",
       "        vertical-align: top;\n",
       "    }\n",
       "\n",
       "    .dataframe thead th {\n",
       "        text-align: right;\n",
       "    }\n",
       "</style>\n",
       "<table border=\"1\" class=\"dataframe\">\n",
       "  <thead>\n",
       "    <tr style=\"text-align: right;\">\n",
       "      <th></th>\n",
       "      <th>Unnamed: 0</th>\n",
       "      <th>Country</th>\n",
       "      <th>Production (Tons)</th>\n",
       "      <th>Production per Person (Kg)</th>\n",
       "      <th>Acreage (Hectare)</th>\n",
       "      <th>Yield (Kg / Hectare)</th>\n",
       "      <th>number of Country</th>\n",
       "    </tr>\n",
       "    <tr>\n",
       "      <th>Continent</th>\n",
       "      <th></th>\n",
       "      <th></th>\n",
       "      <th></th>\n",
       "      <th></th>\n",
       "      <th></th>\n",
       "      <th></th>\n",
       "      <th></th>\n",
       "    </tr>\n",
       "  </thead>\n",
       "  <tbody>\n",
       "    <tr>\n",
       "      <th>Africa</th>\n",
       "      <td>2160</td>\n",
       "      <td>EgyptSouth AfricaKenyaSwazilandSudanZambiaMaur...</td>\n",
       "      <td>89681525.0</td>\n",
       "      <td>2332687.293</td>\n",
       "      <td>1439089.0</td>\n",
       "      <td>2142107.5</td>\n",
       "      <td>39</td>\n",
       "    </tr>\n",
       "    <tr>\n",
       "      <th>Asia</th>\n",
       "      <td>1253</td>\n",
       "      <td>IndiaChinaThailandPakistanIndonesiaPhilippines...</td>\n",
       "      <td>721930425.0</td>\n",
       "      <td>1857769.303</td>\n",
       "      <td>10608319.0</td>\n",
       "      <td>1171871.4</td>\n",
       "      <td>25</td>\n",
       "    </tr>\n",
       "    <tr>\n",
       "      <th>Europe</th>\n",
       "      <td>189</td>\n",
       "      <td>PortugalSpain</td>\n",
       "      <td>5823.0</td>\n",
       "      <td>536.000</td>\n",
       "      <td>71.0</td>\n",
       "      <td>131870.9</td>\n",
       "      <td>2</td>\n",
       "    </tr>\n",
       "    <tr>\n",
       "      <th>North America</th>\n",
       "      <td>1101</td>\n",
       "      <td>MexicoGuatemalaUnited States of AmericaCubaEl ...</td>\n",
       "      <td>173995947.0</td>\n",
       "      <td>3796081.508</td>\n",
       "      <td>1581983.0</td>\n",
       "      <td>1082602.4</td>\n",
       "      <td>22</td>\n",
       "    </tr>\n",
       "    <tr>\n",
       "      <th>Oceania</th>\n",
       "      <td>227</td>\n",
       "      <td>AustraliaFijiPapua New GuineaSamoa</td>\n",
       "      <td>36177574.0</td>\n",
       "      <td>28593.605</td>\n",
       "      <td>490909.0</td>\n",
       "      <td>162419.1</td>\n",
       "      <td>4</td>\n",
       "    </tr>\n",
       "    <tr>\n",
       "      <th>South America</th>\n",
       "      <td>323</td>\n",
       "      <td>BrazilColombiaArgentinaPeruEcuadorBoliviaParag...</td>\n",
       "      <td>865588126.0</td>\n",
       "      <td>3505531.738</td>\n",
       "      <td>11369236.0</td>\n",
       "      <td>677192.7</td>\n",
       "      <td>11</td>\n",
       "    </tr>\n",
       "  </tbody>\n",
       "</table>\n",
       "</div>"
      ],
      "text/plain": [
       "               Unnamed: 0                                            Country   \n",
       "Continent                                                                      \n",
       "Africa               2160  EgyptSouth AfricaKenyaSwazilandSudanZambiaMaur...  \\\n",
       "Asia                 1253  IndiaChinaThailandPakistanIndonesiaPhilippines...   \n",
       "Europe                189                                      PortugalSpain   \n",
       "North America        1101  MexicoGuatemalaUnited States of AmericaCubaEl ...   \n",
       "Oceania               227                 AustraliaFijiPapua New GuineaSamoa   \n",
       "South America         323  BrazilColombiaArgentinaPeruEcuadorBoliviaParag...   \n",
       "\n",
       "               Production (Tons)  Production per Person (Kg)   \n",
       "Continent                                                      \n",
       "Africa                89681525.0                 2332687.293  \\\n",
       "Asia                 721930425.0                 1857769.303   \n",
       "Europe                    5823.0                     536.000   \n",
       "North America        173995947.0                 3796081.508   \n",
       "Oceania               36177574.0                   28593.605   \n",
       "South America        865588126.0                 3505531.738   \n",
       "\n",
       "               Acreage (Hectare)  Yield (Kg / Hectare)  number of Country  \n",
       "Continent                                                                  \n",
       "Africa                 1439089.0             2142107.5                 39  \n",
       "Asia                  10608319.0             1171871.4                 25  \n",
       "Europe                      71.0              131870.9                  2  \n",
       "North America          1581983.0             1082602.4                 22  \n",
       "Oceania                 490909.0              162419.1                  4  \n",
       "South America         11369236.0              677192.7                 11  "
      ]
     },
     "execution_count": 146,
     "metadata": {},
     "output_type": "execute_result"
    }
   ],
   "source": [
    "df"
   ]
  },
  {
   "cell_type": "code",
   "execution_count": 155,
   "id": "8925f1a6",
   "metadata": {},
   "outputs": [
    {
     "data": {
      "text/plain": [
       "<Axes: ylabel='number of Country'>"
      ]
     },
     "execution_count": 155,
     "metadata": {},
     "output_type": "execute_result"
    },
    {
     "data": {
      "image/png": "[encoded data removed]",
      "text/plain": [
       "<Figure size 640x480 with 1 Axes>"
      ]
     },
     "metadata": {},
     "output_type": "display_data"
    }
   ],
   "source": [
    "explode=[0.2,0.3,0.1,0.4,0,0.1]\n",
    "df['number of Country'].plot(kind='pie',autopct='%.2f',explode=explode)"
   ]
  },
  {
   "cell_type": "markdown",
   "id": "ad5c064f",
   "metadata": {},
   "source": [
    "# Maximum Production Continent"
   ]
  },
  {
   "cell_type": "code",
   "execution_count": 156,
   "id": "86a42250",
   "metadata": {},
   "outputs": [
    {
     "data": {
      "text/plain": [
       "865588126.0"
      ]
     },
     "execution_count": 156,
     "metadata": {},
     "output_type": "execute_result"
    }
   ],
   "source": [
    "data.groupby('Continent').sum().max()['Production (Tons)']\n"
   ]
  },
  {
   "cell_type": "code",
   "execution_count": 163,
   "id": "dd111653",
   "metadata": {},
   "outputs": [],
   "source": []
  },
  {
   "cell_type": "code",
   "execution_count": 165,
   "id": "9c27e8bf",
   "metadata": {},
   "outputs": [
    {
     "data": {
      "application/vnd.plotly.v1+json": {
       "config": {
        "plotlyServerURL": "https://plot.ly"
       },
       "data": [
        {
         "coloraxis": "coloraxis",
         "customdata": [
          [
           0,
           "Brazil",
           "South America",
           768678382,
           3668.531,
           10226205,
           75167.5
          ],
          [
           1,
           "India",
           "Asia",
           348448000,
           260721,
           4950000,
           70393.5
          ],
          [
           2,
           "China",
           "Asia",
           123059739,
           88287,
           1675215,
           73459.1
          ],
          [
           3,
           "Thailand",
           "Asia",
           87468496,
           1264.303,
           1336575,
           65442.2
          ],
          [
           4,
           "Pakistan",
           "Asia",
           65450704,
           324219,
           1130820,
           57879
          ],
          [
           5,
           "Mexico",
           "North America",
           56446821,
           452524,
           781054,
           7227
          ],
          [
           6,
           "Colombia",
           "South America",
           36951213,
           740075,
           416626,
           88691.5
          ],
          [
           7,
           "Australia",
           "Oceania",
           34403004,
           1373.406,
           447204,
           76929.1
          ],
          [
           8,
           "Guatemala",
           "North America",
           33533403,
           1938.114,
           25985,
           129049.3
          ],
          [
           9,
           "United States of America",
           "North America",
           29926210,
           91304,
           37053,
           80766
          ],
          [
           10,
           "Indonesia",
           "Asia",
           27158830,
           10248,
           472693,
           57455.5
          ],
          [
           11,
           "Philippines",
           "Asia",
           22370546,
           210232,
           410104,
           54548.5
          ],
          [
           12,
           "Argentina",
           "South America",
           21990823,
           494237,
           331699,
           66297.5
          ],
          [
           13,
           "Cuba",
           "North America",
           18890972,
           1683.528,
           442307,
           42710.1
          ],
          [
           14,
           "Vietnam",
           "Asia",
           16313145,
           172334,
           256322,
           63643.2
          ],
          [
           15,
           "Egypt",
           "Africa",
           15760418,
           161651,
           137011,
           115030.6
          ],
          [
           16,
           "South Africa",
           "Africa",
           15074610,
           261143,
           246937,
           61046.3
          ],
          [
           17,
           "Myanmar",
           "Asia",
           10437058,
           193771,
           16365,
           63776.7
          ],
          [
           18,
           "Peru",
           "South America",
           9832526,
           314768,
           87696,
           112120.2
          ],
          [
           19,
           "Ecuador",
           "South America",
           8661609,
           507518,
           104661,
           82758.4
          ],
          [
           20,
           "Iran",
           "Asia",
           7687593,
           9403,
           95785,
           80259.1
          ],
          [
           21,
           "El Salvador",
           "North America",
           7202141,
           1084.111,
           79103,
           91047.6
          ],
          [
           22,
           "Kenya",
           "Africa",
           7094619,
           139244,
           86876,
           81663.7
          ],
          [
           23,
           "Bolivia",
           "South America",
           6910805,
           61118,
           152306,
           45374.5
          ],
          [
           24,
           "Nicaragua",
           "North America",
           6815147,
           1084.393,
           7413,
           91935.1
          ],
          [
           25,
           "Paraguay",
           "South America",
           6708000,
           951087,
           120,
           559
          ],
          [
           26,
           "Swaziland",
           "Africa",
           5583295,
           4816.299,
           57851,
           96511.4
          ],
          [
           27,
           "Sudan",
           "Africa",
           5525059,
           135428,
           69564,
           79424.5
          ],
          [
           28,
           "Honduras",
           "North America",
           5355700,
           59427,
           64666,
           82821.3
          ],
          [
           29,
           "Dominican Republic",
           "North America",
           4717490,
           459519,
           10681,
           44167
          ],
          [
           30,
           "Nepal",
           "Asia",
           4346754,
           148765,
           80931,
           53709.4
          ],
          [
           31,
           "Zambia",
           "Africa",
           4285839,
           253784,
           41695,
           102789.6
          ],
          [
           32,
           "Bangladesh",
           "Asia",
           4207592,
           25481,
           98357,
           42778.8
          ],
          [
           33,
           "Costa Rica",
           "North America",
           4158370,
           83111,
           6903,
           6024
          ],
          [
           34,
           "Mauritius",
           "Africa",
           3798448,
           3002.994,
           51477,
           73789.2
          ],
          [
           35,
           "Uganda",
           "Africa",
           3723019,
           95897,
           54911,
           67801.4
          ],
          [
           36,
           "Zimbabwe",
           "Africa",
           3483000,
           234563,
           435,
           80069
          ],
          [
           37,
           "Venezuela",
           "South America",
           3331252,
           104664,
           5223,
           63780.4
          ],
          [
           38,
           "Madagascar",
           "Africa",
           3005641,
           114445,
           94157,
           31921.6
          ],
          [
           39,
           "Tanzania",
           "Africa",
           2994127,
           55243,
           108487,
           27599.1
          ],
          [
           40,
           "Malawi",
           "Africa",
           2915406,
           162584,
           27087,
           107629.5
          ],
          [
           41,
           "Mozambique",
           "Africa",
           2761505,
           9568,
           42311,
           65266.8
          ],
          [
           42,
           "Panama",
           "North America",
           2419638,
           581814,
           37995,
           63683.1
          ],
          [
           43,
           "Guyana",
           "South America",
           2394553,
           3061.207,
           44311,
           54039.7
          ],
          [
           44,
           "Congo-Kinshasa",
           "Africa",
           2191333,
           2694,
           4891,
           44803.4
          ],
          [
           45,
           "Laos",
           "Asia",
           2019000,
           290036,
           3618,
           55804.3
          ],
          [
           46,
           "Côte d'Ivoire",
           "Africa",
           1982661,
           79606,
           25205,
           78660.3
          ],
          [
           47,
           "Japan",
           "Asia",
           1574000,
           12444,
           28901,
           54461.6
          ],
          [
           48,
           "Fiji",
           "Oceania",
           1556692,
           1759.199,
           36705,
           42411.3
          ],
          [
           49,
           "Haiti",
           "North America",
           1472712,
           132522,
           23184,
           63521.9
          ],
          [
           50,
           "Belize",
           "North America",
           1457656,
           3682.047,
           33964,
           42917.7
          ],
          [
           51,
           "Jamaica",
           "North America",
           1422432,
           521254,
           26255,
           54178.2
          ],
          [
           52,
           "Ethiopia",
           "Africa",
           1410312,
           13115,
           31237,
           45148.8
          ],
          [
           53,
           "Nigeria",
           "Africa",
           1337572,
           6776,
           82586,
           16196.1
          ],
          [
           54,
           "Cameroon",
           "Africa",
           1288732,
           54162,
           135984,
           9477.1
          ],
          [
           55,
           "Trinidad and Tobago",
           "North America",
           810,
           597066,
           15,
           54
          ],
          [
           56,
           "Sri Lanka",
           "Asia",
           747907,
           34877,
           16751,
           44647.8
          ],
          [
           57,
           "Senegal",
           "Africa",
           696992,
           44321,
           5902,
           118085.3
          ],
          [
           58,
           "Congo-Brazzaville",
           "Africa",
           687365,
           127292,
           20132,
           34142.4
          ],
          [
           59,
           "Cambodia",
           "Asia",
           610878,
           38014,
           27387,
           22305.5
          ],
          [
           60,
           "Angola",
           "Africa",
           556094,
           19012,
           14255,
           39011.6
          ],
          [
           61,
           "Burkina Faso",
           "Africa",
           484872,
           23951,
           4823,
           100526.3
          ],
          [
           62,
           "Chad",
           "Africa",
           455986,
           297,
           4433,
           102867.1
          ],
          [
           63,
           "Morocco",
           "Africa",
           426503,
           12265,
           10434,
           40876.3
          ],
          [
           64,
           "Taiwan",
           "Asia",
           3958,
           16788,
           5917,
           66896.6
          ],
          [
           65,
           "Uruguay",
           "South America",
           3677,
           104878,
           76,
           48381.6
          ],
          [
           66,
           "Mali",
           "Africa",
           365119,
           19108,
           5035,
           72521.1
          ],
          [
           67,
           "Guinea",
           "Africa",
           304975,
           25664,
           5683,
           53668.4
          ],
          [
           68,
           "Gabon",
           "Africa",
           286466,
           138553,
           4645,
           61675.3
          ],
          [
           69,
           "Liberia",
           "Africa",
           272804,
           6225,
           26781,
           10186.4
          ],
          [
           70,
           "Burundi",
           "Africa",
           218115,
           2042,
           2998,
           72753.5
          ],
          [
           71,
           "Papua New Guinea",
           "Oceania",
           217866,
           25455,
           6999,
           31128.9
          ],
          [
           72,
           "Niger",
           "Africa",
           216037,
           10064,
           584,
           36989.7
          ],
          [
           73,
           "Somalia",
           "Africa",
           21062,
           13873,
           5731,
           36749.2
          ],
          [
           74,
           "Ghana",
           "Africa",
           152136,
           5137,
           6122,
           24848.9
          ],
          [
           75,
           "Suriname",
           "South America",
           125286,
           220457,
           313,
           40022.4
          ],
          [
           76,
           "Central African Republic",
           "Africa",
           103002,
           21742,
           18466,
           5577.8
          ],
          [
           77,
           "Saint Kitts and Nevis",
           "North America",
           100,
           2164.315,
           18,
           55555.6
          ],
          [
           78,
           "Rwanda",
           "Africa",
           93823,
           7818,
           1103,
           8506.3
          ],
          [
           79,
           "Barbados",
           "North America",
           83369,
           291105,
           1733,
           48106.8
          ],
          [
           80,
           "Sierra Leone",
           "Africa",
           77269,
           10009,
           1107,
           69811.3
          ],
          [
           81,
           "The Bahamas",
           "North America",
           57602,
           151059,
           2308,
           24953.5
          ],
          [
           82,
           "Cape Verde",
           "Africa",
           28375,
           52152,
           1296,
           21888.1
          ],
          [
           83,
           "Saint Vincent and the Grenadines",
           "North America",
           17871,
           163121,
           732,
           24428.9
          ],
          [
           84,
           "Afghanistan",
           "Asia",
           17364,
           55,
           1333,
           13026.3
          ],
          [
           85,
           "Bhutan",
           "Asia",
           146,
           20079,
           467,
           31252.7
          ],
          [
           86,
           "Benin",
           "Africa",
           12017,
           1058,
           598,
           20095.3
          ],
          [
           87,
           "Iraq",
           "Asia",
           1167,
           297,
           584,
           20
          ],
          [
           88,
           "Saint Lucia",
           "North America",
           10,
           55915,
           125,
           80
          ],
          [
           89,
           "Grenada",
           "North America",
           7273,
           70388,
           162,
           44822.3
          ],
          [
           90,
           "Guinea-Bissau",
           "Africa",
           6864,
           4331,
           259,
           26498.8
          ],
          [
           91,
           "Malaysia",
           "Asia",
           5714,
           175,
           88,
           65223.8
          ],
          [
           92,
           "Portugal",
           "Europe",
           5429,
           528,
           62,
           88274.4
          ],
          [
           93,
           "Antigua and Barbuda",
           "North America",
           5365,
           6217,
           83,
           64638.6
          ],
          [
           94,
           "Dominica",
           "North America",
           4855,
           68099,
           244,
           19914.4
          ],
          [
           95,
           "Oman",
           "Asia",
           1186,
           237,
           51,
           23432.2
          ],
          [
           96,
           "Yemen",
           "Asia",
           500,
           17,
           50,
           10
          ],
          [
           97,
           "Spain",
           "Europe",
           394,
           8,
           9,
           43596.5
          ],
          [
           98,
           "Lebanon",
           "Asia",
           97,
           16,
           3,
           28386.4
          ],
          [
           99,
           "Djibouti",
           "Africa",
           53,
           51,
           null,
           null
          ],
          [
           100,
           "Singapore",
           "Asia",
           50,
           9,
           2,
           25
          ],
          [
           101,
           "Samoa",
           "Oceania",
           12,
           6,
           1,
           11949.8
          ],
          [
           102,
           "Syria",
           "Asia",
           1,
           0,
           0,
           83034.2
          ]
         ],
         "geo": "geo",
         "hovertemplate": "<b>%{hovertext}</b><br><br>Country=%{customdata[1]}<br>Unnamed: 0=%{customdata[0]}<br>Continent=%{customdata[2]}<br>Production (Tons)=%{z}<br>Production per Person (Kg)=%{customdata[4]}<br>Acreage (Hectare)=%{customdata[5]}<br>Yield (Kg / Hectare)=%{customdata[6]}<extra></extra>",
         "hovertext": [
          "Brazil",
          "India",
          "China",
          "Thailand",
          "Pakistan",
          "Mexico",
          "Colombia",
          "Australia",
          "Guatemala",
          "United States of America",
          "Indonesia",
          "Philippines",
          "Argentina",
          "Cuba",
          "Vietnam",
          "Egypt",
          "South Africa",
          "Myanmar",
          "Peru",
          "Ecuador",
          "Iran",
          "El Salvador",
          "Kenya",
          "Bolivia",
          "Nicaragua",
          "Paraguay",
          "Swaziland",
          "Sudan",
          "Honduras",
          "Dominican Republic",
          "Nepal",
          "Zambia",
          "Bangladesh",
          "Costa Rica",
          "Mauritius",
          "Uganda",
          "Zimbabwe",
          "Venezuela",
          "Madagascar",
          "Tanzania",
          "Malawi",
          "Mozambique",
          "Panama",
          "Guyana",
          "Congo-Kinshasa",
          "Laos",
          "Côte d'Ivoire",
          "Japan",
          "Fiji",
          "Haiti",
          "Belize",
          "Jamaica",
          "Ethiopia",
          "Nigeria",
          "Cameroon",
          "Trinidad and Tobago",
          "Sri Lanka",
          "Senegal",
          "Congo-Brazzaville",
          "Cambodia",
          "Angola",
          "Burkina Faso",
          "Chad",
          "Morocco",
          "Taiwan",
          "Uruguay",
          "Mali",
          "Guinea",
          "Gabon",
          "Liberia",
          "Burundi",
          "Papua New Guinea",
          "Niger",
          "Somalia",
          "Ghana",
          "Suriname",
          "Central African Republic",
          "Saint Kitts and Nevis",
          "Rwanda",
          "Barbados",
          "Sierra Leone",
          "The Bahamas",
          "Cape Verde",
          "Saint Vincent and the Grenadines",
          "Afghanistan",
          "Bhutan",
          "Benin",
          "Iraq",
          "Saint Lucia",
          "Grenada",
          "Guinea-Bissau",
          "Malaysia",
          "Portugal",
          "Antigua and Barbuda",
          "Dominica",
          "Oman",
          "Yemen",
          "Spain",
          "Lebanon",
          "Djibouti",
          "Singapore",
          "Samoa",
          "Syria"
         ],
         "locationmode": "country names",
         "locations": [
          "Brazil",
          "India",
          "China",
          "Thailand",
          "Pakistan",
          "Mexico",
          "Colombia",
          "Australia",
          "Guatemala",
          "United States of America",
          "Indonesia",
          "Philippines",
          "Argentina",
          "Cuba",
          "Vietnam",
          "Egypt",
          "South Africa",
          "Myanmar",
          "Peru",
          "Ecuador",
          "Iran",
          "El Salvador",
          "Kenya",
          "Bolivia",
          "Nicaragua",
          "Paraguay",
          "Swaziland",
          "Sudan",
          "Honduras",
          "Dominican Republic",
          "Nepal",
          "Zambia",
          "Bangladesh",
          "Costa Rica",
          "Mauritius",
          "Uganda",
          "Zimbabwe",
          "Venezuela",
          "Madagascar",
          "Tanzania",
          "Malawi",
          "Mozambique",
          "Panama",
          "Guyana",
          "Congo-Kinshasa",
          "Laos",
          "Côte d'Ivoire",
          "Japan",
          "Fiji",
          "Haiti",
          "Belize",
          "Jamaica",
          "Ethiopia",
          "Nigeria",
          "Cameroon",
          "Trinidad and Tobago",
          "Sri Lanka",
          "Senegal",
          "Congo-Brazzaville",
          "Cambodia",
          "Angola",
          "Burkina Faso",
          "Chad",
          "Morocco",
          "Taiwan",
          "Uruguay",
          "Mali",
          "Guinea",
          "Gabon",
          "Liberia",
          "Burundi",
          "Papua New Guinea",
          "Niger",
          "Somalia",
          "Ghana",
          "Suriname",
          "Central African Republic",
          "Saint Kitts and Nevis",
          "Rwanda",
          "Barbados",
          "Sierra Leone",
          "The Bahamas",
          "Cape Verde",
          "Saint Vincent and the Grenadines",
          "Afghanistan",
          "Bhutan",
          "Benin",
          "Iraq",
          "Saint Lucia",
          "Grenada",
          "Guinea-Bissau",
          "Malaysia",
          "Portugal",
          "Antigua and Barbuda",
          "Dominica",
          "Oman",
          "Yemen",
          "Spain",
          "Lebanon",
          "Djibouti",
          "Singapore",
          "Samoa",
          "Syria"
         ],
         "name": "",
         "type": "choropleth",
         "z": [
          768678382,
          348448000,
          123059739,
          87468496,
          65450704,
          56446821,
          36951213,
          34403004,
          33533403,
          29926210,
          27158830,
          22370546,
          21990823,
          18890972,
          16313145,
          15760418,
          15074610,
          10437058,
          9832526,
          8661609,
          7687593,
          7202141,
          7094619,
          6910805,
          6815147,
          6708000,
          5583295,
          5525059,
          5355700,
          4717490,
          4346754,
          4285839,
          4207592,
          4158370,
          3798448,
          3723019,
          3483000,
          3331252,
          3005641,
          2994127,
          2915406,
          2761505,
          2419638,
          2394553,
          2191333,
          2019000,
          1982661,
          1574000,
          1556692,
          1472712,
          1457656,
          1422432,
          1410312,
          1337572,
          1288732,
          810,
          747907,
          696992,
          687365,
          610878,
          556094,
          484872,
          455986,
          426503,
          3958,
          3677,
          365119,
          304975,
          286466,
          272804,
          218115,
          217866,
          216037,
          21062,
          152136,
          125286,
          103002,
          100,
          93823,
          83369,
          77269,
          57602,
          28375,
          17871,
          17364,
          146,
          12017,
          1167,
          10,
          7273,
          6864,
          5714,
          5429,
          5365,
          4855,
          1186,
          500,
          394,
          97,
          53,
          50,
          12,
          1
         ]
        }
       ],
       "layout": {
        "coloraxis": {
         "colorbar": {
          "title": {
           "text": "Production (Tons)"
          }
         },
         "colorscale": [
          [
           0,
           "#0d0887"
          ],
          [
           0.1111111111111111,
           "#46039f"
          ],
          [
           0.2222222222222222,
           "#7201a8"
          ],
          [
           0.3333333333333333,
           "#9c179e"
          ],
          [
           0.4444444444444444,
           "#bd3786"
          ],
          [
           0.5555555555555556,
           "#d8576b"
          ],
          [
           0.6666666666666666,
           "#ed7953"
          ],
          [
           0.7777777777777778,
           "#fb9f3a"
          ],
          [
           0.8888888888888888,
           "#fdca26"
          ],
          [
           1,
           "#f0f921"
          ]
         ]
        },
        "geo": {
         "center": {},
         "domain": {
          "x": [
           0,
           1
          ],
          "y": [
           0,
           1
          ]
         }
        },
        "legend": {
         "tracegroupgap": 0
        },
        "template": {
         "data": {
          "bar": [
           {
            "error_x": {
             "color": "#2a3f5f"
            },
            "error_y": {
             "color": "#2a3f5f"
            },
            "marker": {
             "line": {
              "color": "#E5ECF6",
              "width": 0.5
             },
             "pattern": {
              "fillmode": "overlay",
              "size": 10,
              "solidity": 0.2
             }
            },
            "type": "bar"
           }
          ],
          "barpolar": [
           {
            "marker": {
             "line": {
              "color": "#E5ECF6",
              "width": 0.5
             },
             "pattern": {
              "fillmode": "overlay",
              "size": 10,
              "solidity": 0.2
             }
            },
            "type": "barpolar"
           }
          ],
          "carpet": [
           {
            "aaxis": {
             "endlinecolor": "#2a3f5f",
             "gridcolor": "white",
             "linecolor": "white",
             "minorgridcolor": "white",
             "startlinecolor": "#2a3f5f"
            },
            "baxis": {
             "endlinecolor": "#2a3f5f",
             "gridcolor": "white",
             "linecolor": "white",
             "minorgridcolor": "white",
             "startlinecolor": "#2a3f5f"
            },
            "type": "carpet"
           }
          ],
          "choropleth": [
           {
            "colorbar": {
             "outlinewidth": 0,
             "ticks": ""
            },
            "type": "choropleth"
           }
          ],
          "contour": [
           {
            "colorbar": {
             "outlinewidth": 0,
             "ticks": ""
            },
            "colorscale": [
             [
              0,
              "#0d0887"
             ],
             [
              0.1111111111111111,
              "#46039f"
             ],
             [
              0.2222222222222222,
              "#7201a8"
             ],
             [
              0.3333333333333333,
              "#9c179e"
             ],
             [
              0.4444444444444444,
              "#bd3786"
             ],
             [
              0.5555555555555556,
              "#d8576b"
             ],
             [
              0.6666666666666666,
              "#ed7953"
             ],
             [
              0.7777777777777778,
              "#fb9f3a"
             ],
             [
              0.8888888888888888,
              "#fdca26"
             ],
             [
              1,
              "#f0f921"
             ]
            ],
            "type": "contour"
           }
          ],
          "contourcarpet": [
           {
            "colorbar": {
             "outlinewidth": 0,
             "ticks": ""
            },
            "type": "contourcarpet"
           }
          ],
          "heatmap": [
           {
            "colorbar": {
             "outlinewidth": 0,
             "ticks": ""
            },
            "colorscale": [
             [
              0,
              "#0d0887"
             ],
             [
              0.1111111111111111,
              "#46039f"
             ],
             [
              0.2222222222222222,
              "#7201a8"
             ],
             [
              0.3333333333333333,
              "#9c179e"
             ],
             [
              0.4444444444444444,
              "#bd3786"
             ],
             [
              0.5555555555555556,
              "#d8576b"
             ],
             [
              0.6666666666666666,
              "#ed7953"
             ],
             [
              0.7777777777777778,
              "#fb9f3a"
             ],
             [
              0.8888888888888888,
              "#fdca26"
             ],
             [
              1,
              "#f0f921"
             ]
            ],
            "type": "heatmap"
           }
          ],
          "heatmapgl": [
           {
            "colorbar": {
             "outlinewidth": 0,
             "ticks": ""
            },
            "colorscale": [
             [
              0,
              "#0d0887"
             ],
             [
              0.1111111111111111,
              "#46039f"
             ],
             [
              0.2222222222222222,
              "#7201a8"
             ],
             [
              0.3333333333333333,
              "#9c179e"
             ],
             [
              0.4444444444444444,
              "#bd3786"
             ],
             [
              0.5555555555555556,
              "#d8576b"
             ],
             [
              0.6666666666666666,
              "#ed7953"
             ],
             [
              0.7777777777777778,
              "#fb9f3a"
             ],
             [
              0.8888888888888888,
              "#fdca26"
             ],
             [
              1,
              "#f0f921"
             ]
            ],
            "type": "heatmapgl"
           }
          ],
          "histogram": [
           {
            "marker": {
             "pattern": {
              "fillmode": "overlay",
              "size": 10,
              "solidity": 0.2
             }
            },
            "type": "histogram"
           }
          ],
          "histogram2d": [
           {
            "colorbar": {
             "outlinewidth": 0,
             "ticks": ""
            },
            "colorscale": [
             [
              0,
              "#0d0887"
             ],
             [
              0.1111111111111111,
              "#46039f"
             ],
             [
              0.2222222222222222,
              "#7201a8"
             ],
             [
              0.3333333333333333,
              "#9c179e"
             ],
             [
              0.4444444444444444,
              "#bd3786"
             ],
             [
              0.5555555555555556,
              "#d8576b"
             ],
             [
              0.6666666666666666,
              "#ed7953"
             ],
             [
              0.7777777777777778,
              "#fb9f3a"
             ],
             [
              0.8888888888888888,
              "#fdca26"
             ],
             [
              1,
              "#f0f921"
             ]
            ],
            "type": "histogram2d"
           }
          ],
          "histogram2dcontour": [
           {
            "colorbar": {
             "outlinewidth": 0,
             "ticks": ""
            },
            "colorscale": [
             [
              0,
              "#0d0887"
             ],
             [
              0.1111111111111111,
              "#46039f"
             ],
             [
              0.2222222222222222,
              "#7201a8"
             ],
             [
              0.3333333333333333,
              "#9c179e"
             ],
             [
              0.4444444444444444,
              "#bd3786"
             ],
             [
              0.5555555555555556,
              "#d8576b"
             ],
             [
              0.6666666666666666,
              "#ed7953"
             ],
             [
              0.7777777777777778,
              "#fb9f3a"
             ],
             [
              0.8888888888888888,
              "#fdca26"
             ],
             [
              1,
              "#f0f921"
             ]
            ],
            "type": "histogram2dcontour"
           }
          ],
          "mesh3d": [
           {
            "colorbar": {
             "outlinewidth": 0,
             "ticks": ""
            },
            "type": "mesh3d"
           }
          ],
          "parcoords": [
           {
            "line": {
             "colorbar": {
              "outlinewidth": 0,
              "ticks": ""
             }
            },
            "type": "parcoords"
           }
          ],
          "pie": [
           {
            "automargin": true,
            "type": "pie"
           }
          ],
          "scatter": [
           {
            "fillpattern": {
             "fillmode": "overlay",
             "size": 10,
             "solidity": 0.2
            },
            "type": "scatter"
           }
          ],
          "scatter3d": [
           {
            "line": {
             "colorbar": {
              "outlinewidth": 0,
              "ticks": ""
             }
            },
            "marker": {
             "colorbar": {
              "outlinewidth": 0,
              "ticks": ""
             }
            },
            "type": "scatter3d"
           }
          ],
          "scattercarpet": [
           {
            "marker": {
             "colorbar": {
              "outlinewidth": 0,
              "ticks": ""
             }
            },
            "type": "scattercarpet"
           }
          ],
          "scattergeo": [
           {
            "marker": {
             "colorbar": {
              "outlinewidth": 0,
              "ticks": ""
             }
            },
            "type": "scattergeo"
           }
          ],
          "scattergl": [
           {
            "marker": {
             "colorbar": {
              "outlinewidth": 0,
              "ticks": ""
             }
            },
            "type": "scattergl"
           }
          ],
          "scattermapbox": [
           {
            "marker": {
             "colorbar": {
              "outlinewidth": 0,
              "ticks": ""
             }
            },
            "type": "scattermapbox"
           }
          ],
          "scatterpolar": [
           {
            "marker": {
             "colorbar": {
              "outlinewidth": 0,
              "ticks": ""
             }
            },
            "type": "scatterpolar"
           }
          ],
          "scatterpolargl": [
           {
            "marker": {
             "colorbar": {
              "outlinewidth": 0,
              "ticks": ""
             }
            },
            "type": "scatterpolargl"
           }
          ],
          "scatterternary": [
           {
            "marker": {
             "colorbar": {
              "outlinewidth": 0,
              "ticks": ""
             }
            },
            "type": "scatterternary"
           }
          ],
          "surface": [
           {
            "colorbar": {
             "outlinewidth": 0,
             "ticks": ""
            },
            "colorscale": [
             [
              0,
              "#0d0887"
             ],
             [
              0.1111111111111111,
              "#46039f"
             ],
             [
              0.2222222222222222,
              "#7201a8"
             ],
             [
              0.3333333333333333,
              "#9c179e"
             ],
             [
              0.4444444444444444,
              "#bd3786"
             ],
             [
              0.5555555555555556,
              "#d8576b"
             ],
             [
              0.6666666666666666,
              "#ed7953"
             ],
             [
              0.7777777777777778,
              "#fb9f3a"
             ],
             [
              0.8888888888888888,
              "#fdca26"
             ],
             [
              1,
              "#f0f921"
             ]
            ],
            "type": "surface"
           }
          ],
          "table": [
           {
            "cells": {
             "fill": {
              "color": "#EBF0F8"
             },
             "line": {
              "color": "white"
             }
            },
            "header": {
             "fill": {
              "color": "#C8D4E3"
             },
             "line": {
              "color": "white"
             }
            },
            "type": "table"
           }
          ]
         },
         "layout": {
          "annotationdefaults": {
           "arrowcolor": "#2a3f5f",
           "arrowhead": 0,
           "arrowwidth": 1
          },
          "autotypenumbers": "strict",
          "coloraxis": {
           "colorbar": {
            "outlinewidth": 0,
            "ticks": ""
           }
          },
          "colorscale": {
           "diverging": [
            [
             0,
             "#8e0152"
            ],
            [
             0.1,
             "#c51b7d"
            ],
            [
             0.2,
             "#de77ae"
            ],
            [
             0.3,
             "#f1b6da"
            ],
            [
             0.4,
             "#fde0ef"
            ],
            [
             0.5,
             "#f7f7f7"
            ],
            [
             0.6,
             "#e6f5d0"
            ],
            [
             0.7,
             "#b8e186"
            ],
            [
             0.8,
             "#7fbc41"
            ],
            [
             0.9,
             "#4d9221"
            ],
            [
             1,
             "#276419"
            ]
           ],
           "sequential": [
            [
             0,
             "#0d0887"
            ],
            [
             0.1111111111111111,
             "#46039f"
            ],
            [
             0.2222222222222222,
             "#7201a8"
            ],
            [
             0.3333333333333333,
             "#9c179e"
            ],
            [
             0.4444444444444444,
             "#bd3786"
            ],
            [
             0.5555555555555556,
             "#d8576b"
            ],
            [
             0.6666666666666666,
             "#ed7953"
            ],
            [
             0.7777777777777778,
             "#fb9f3a"
            ],
            [
             0.8888888888888888,
             "#fdca26"
            ],
            [
             1,
             "#f0f921"
            ]
           ],
           "sequentialminus": [
            [
             0,
             "#0d0887"
            ],
            [
             0.1111111111111111,
             "#46039f"
            ],
            [
             0.2222222222222222,
             "#7201a8"
            ],
            [
             0.3333333333333333,
             "#9c179e"
            ],
            [
             0.4444444444444444,
             "#bd3786"
            ],
            [
             0.5555555555555556,
             "#d8576b"
            ],
            [
             0.6666666666666666,
             "#ed7953"
            ],
            [
             0.7777777777777778,
             "#fb9f3a"
            ],
            [
             0.8888888888888888,
             "#fdca26"
            ],
            [
             1,
             "#f0f921"
            ]
           ]
          },
          "colorway": [
           "#636efa",
           "#EF553B",
           "#00cc96",
           "#ab63fa",
           "#FFA15A",
           "#19d3f3",
           "#FF6692",
           "#B6E880",
           "#FF97FF",
           "#FECB52"
          ],
          "font": {
           "color": "#2a3f5f"
          },
          "geo": {
           "bgcolor": "white",
           "lakecolor": "white",
           "landcolor": "#E5ECF6",
           "showlakes": true,
           "showland": true,
           "subunitcolor": "white"
          },
          "hoverlabel": {
           "align": "left"
          },
          "hovermode": "closest",
          "mapbox": {
           "style": "light"
          },
          "paper_bgcolor": "white",
          "plot_bgcolor": "#E5ECF6",
          "polar": {
           "angularaxis": {
            "gridcolor": "white",
            "linecolor": "white",
            "ticks": ""
           },
           "bgcolor": "#E5ECF6",
           "radialaxis": {
            "gridcolor": "white",
            "linecolor": "white",
            "ticks": ""
           }
          },
          "scene": {
           "xaxis": {
            "backgroundcolor": "#E5ECF6",
            "gridcolor": "white",
            "gridwidth": 2,
            "linecolor": "white",
            "showbackground": true,
            "ticks": "",
            "zerolinecolor": "white"
           },
           "yaxis": {
            "backgroundcolor": "#E5ECF6",
            "gridcolor": "white",
            "gridwidth": 2,
            "linecolor": "white",
            "showbackground": true,
            "ticks": "",
            "zerolinecolor": "white"
           },
           "zaxis": {
            "backgroundcolor": "#E5ECF6",
            "gridcolor": "white",
            "gridwidth": 2,
            "linecolor": "white",
            "showbackground": true,
            "ticks": "",
            "zerolinecolor": "white"
           }
          },
          "shapedefaults": {
           "line": {
            "color": "#2a3f5f"
           }
          },
          "ternary": {
           "aaxis": {
            "gridcolor": "white",
            "linecolor": "white",
            "ticks": ""
           },
           "baxis": {
            "gridcolor": "white",
            "linecolor": "white",
            "ticks": ""
           },
           "bgcolor": "#E5ECF6",
           "caxis": {
            "gridcolor": "white",
            "linecolor": "white",
            "ticks": ""
           }
          },
          "title": {
           "x": 0.05
          },
          "xaxis": {
           "automargin": true,
           "gridcolor": "white",
           "linecolor": "white",
           "ticks": "",
           "title": {
            "standoff": 15
           },
           "zerolinecolor": "white",
           "zerolinewidth": 2
          },
          "yaxis": {
           "automargin": true,
           "gridcolor": "white",
           "linecolor": "white",
           "ticks": "",
           "title": {
            "standoff": 15
           },
           "zerolinecolor": "white",
           "zerolinewidth": 2
          }
         }
        },
        "title": {
         "text": "Map of countries and their production of Sugarcane"
        }
       }
      },
      "text/html": [
       "<div>                            <div id=\"892dc67d-dd91-42f0-90fb-5a941e17e53b\" class=\"plotly-graph-div\" style=\"height:525px; width:100%;\"></div>            <script type=\"text/javascript\">                require([\"plotly\"], function(Plotly) {                    window.PLOTLYENV=window.PLOTLYENV || {};                                    if (document.getElementById(\"892dc67d-dd91-42f0-90fb-5a941e17e53b\")) {                    Plotly.newPlot(                        \"892dc67d-dd91-42f0-90fb-5a941e17e53b\",                        [{\"coloraxis\":\"coloraxis\",\"customdata\":[[0,\"Brazil\",\"South America\",768678382.0,3668.531,10226205.0,75167.5],[1,\"India\",\"Asia\",348448000.0,260721.0,4950000.0,70393.5],[2,\"China\",\"Asia\",123059739.0,88287.0,1675215.0,73459.1],[3,\"Thailand\",\"Asia\",87468496.0,1264.303,1336575.0,65442.2],[4,\"Pakistan\",\"Asia\",65450704.0,324219.0,1130820.0,57879.0],[5,\"Mexico\",\"North America\",56446821.0,452524.0,781054.0,7227.0],[6,\"Colombia\",\"South America\",36951213.0,740075.0,416626.0,88691.5],[7,\"Australia\",\"Oceania\",34403004.0,1373.406,447204.0,76929.1],[8,\"Guatemala\",\"North America\",33533403.0,1938.114,25985.0,129049.3],[9,\"United States of America\",\"North America\",29926210.0,91304.0,37053.0,80766.0],[10,\"Indonesia\",\"Asia\",27158830.0,10248.0,472693.0,57455.5],[11,\"Philippines\",\"Asia\",22370546.0,210232.0,410104.0,54548.5],[12,\"Argentina\",\"South America\",21990823.0,494237.0,331699.0,66297.5],[13,\"Cuba\",\"North America\",18890972.0,1683.528,442307.0,42710.1],[14,\"Vietnam\",\"Asia\",16313145.0,172334.0,256322.0,63643.2],[15,\"Egypt\",\"Africa\",15760418.0,161651.0,137011.0,115030.6],[16,\"South Africa\",\"Africa\",15074610.0,261143.0,246937.0,61046.3],[17,\"Myanmar\",\"Asia\",10437058.0,193771.0,16365.0,63776.7],[18,\"Peru\",\"South America\",9832526.0,314768.0,87696.0,112120.2],[19,\"Ecuador\",\"South America\",8661609.0,507518.0,104661.0,82758.4],[20,\"Iran\",\"Asia\",7687593.0,9403.0,95785.0,80259.1],[21,\"El Salvador\",\"North America\",7202141.0,1084.111,79103.0,91047.6],[22,\"Kenya\",\"Africa\",7094619.0,139244.0,86876.0,81663.7],[23,\"Bolivia\",\"South America\",6910805.0,61118.0,152306.0,45374.5],[24,\"Nicaragua\",\"North America\",6815147.0,1084.393,7413.0,91935.1],[25,\"Paraguay\",\"South America\",6708000.0,951087.0,120.0,559.0],[26,\"Swaziland\",\"Africa\",5583295.0,4816.299,57851.0,96511.4],[27,\"Sudan\",\"Africa\",5525059.0,135428.0,69564.0,79424.5],[28,\"Honduras\",\"North America\",5355700.0,59427.0,64666.0,82821.3],[29,\"Dominican Republic\",\"North America\",4717490.0,459519.0,10681.0,44167.0],[30,\"Nepal\",\"Asia\",4346754.0,148765.0,80931.0,53709.4],[31,\"Zambia\",\"Africa\",4285839.0,253784.0,41695.0,102789.6],[32,\"Bangladesh\",\"Asia\",4207592.0,25481.0,98357.0,42778.8],[33,\"Costa Rica\",\"North America\",4158370.0,83111.0,6903.0,6024.0],[34,\"Mauritius\",\"Africa\",3798448.0,3002.994,51477.0,73789.2],[35,\"Uganda\",\"Africa\",3723019.0,95897.0,54911.0,67801.4],[36,\"Zimbabwe\",\"Africa\",3483000.0,234563.0,435.0,80069.0],[37,\"Venezuela\",\"South America\",3331252.0,104664.0,5223.0,63780.4],[38,\"Madagascar\",\"Africa\",3005641.0,114445.0,94157.0,31921.6],[39,\"Tanzania\",\"Africa\",2994127.0,55243.0,108487.0,27599.1],[40,\"Malawi\",\"Africa\",2915406.0,162584.0,27087.0,107629.5],[41,\"Mozambique\",\"Africa\",2761505.0,9568.0,42311.0,65266.8],[42,\"Panama\",\"North America\",2419638.0,581814.0,37995.0,63683.1],[43,\"Guyana\",\"South America\",2394553.0,3061.207,44311.0,54039.7],[44,\"Congo-Kinshasa\",\"Africa\",2191333.0,2694.0,4891.0,44803.4],[45,\"Laos\",\"Asia\",2019000.0,290036.0,3618.0,55804.3],[46,\"C\\u00f4te d'Ivoire\",\"Africa\",1982661.0,79606.0,25205.0,78660.3],[47,\"Japan\",\"Asia\",1574000.0,12444.0,28901.0,54461.6],[48,\"Fiji\",\"Oceania\",1556692.0,1759.199,36705.0,42411.3],[49,\"Haiti\",\"North America\",1472712.0,132522.0,23184.0,63521.9],[50,\"Belize\",\"North America\",1457656.0,3682.047,33964.0,42917.7],[51,\"Jamaica\",\"North America\",1422432.0,521254.0,26255.0,54178.2],[52,\"Ethiopia\",\"Africa\",1410312.0,13115.0,31237.0,45148.8],[53,\"Nigeria\",\"Africa\",1337572.0,6776.0,82586.0,16196.1],[54,\"Cameroon\",\"Africa\",1288732.0,54162.0,135984.0,9477.1],[55,\"Trinidad and Tobago\",\"North America\",810.0,597066.0,15.0,54.0],[56,\"Sri Lanka\",\"Asia\",747907.0,34877.0,16751.0,44647.8],[57,\"Senegal\",\"Africa\",696992.0,44321.0,5902.0,118085.3],[58,\"Congo-Brazzaville\",\"Africa\",687365.0,127292.0,20132.0,34142.4],[59,\"Cambodia\",\"Asia\",610878.0,38014.0,27387.0,22305.5],[60,\"Angola\",\"Africa\",556094.0,19012.0,14255.0,39011.6],[61,\"Burkina Faso\",\"Africa\",484872.0,23951.0,4823.0,100526.3],[62,\"Chad\",\"Africa\",455986.0,297.0,4433.0,102867.1],[63,\"Morocco\",\"Africa\",426503.0,12265.0,10434.0,40876.3],[64,\"Taiwan\",\"Asia\",3958.0,16788.0,5917.0,66896.6],[65,\"Uruguay\",\"South America\",3677.0,104878.0,76.0,48381.6],[66,\"Mali\",\"Africa\",365119.0,19108.0,5035.0,72521.1],[67,\"Guinea\",\"Africa\",304975.0,25664.0,5683.0,53668.4],[68,\"Gabon\",\"Africa\",286466.0,138553.0,4645.0,61675.3],[69,\"Liberia\",\"Africa\",272804.0,6225.0,26781.0,10186.4],[70,\"Burundi\",\"Africa\",218115.0,2042.0,2998.0,72753.5],[71,\"Papua New Guinea\",\"Oceania\",217866.0,25455.0,6999.0,31128.9],[72,\"Niger\",\"Africa\",216037.0,10064.0,584.0,36989.7],[73,\"Somalia\",\"Africa\",21062.0,13873.0,5731.0,36749.2],[74,\"Ghana\",\"Africa\",152136.0,5137.0,6122.0,24848.9],[75,\"Suriname\",\"South America\",125286.0,220457.0,313.0,40022.4],[76,\"Central African Republic\",\"Africa\",103002.0,21742.0,18466.0,5577.8],[77,\"Saint Kitts and Nevis\",\"North America\",100.0,2164.315,18.0,55555.6],[78,\"Rwanda\",\"Africa\",93823.0,7818.0,1103.0,8506.3],[79,\"Barbados\",\"North America\",83369.0,291105.0,1733.0,48106.8],[80,\"Sierra Leone\",\"Africa\",77269.0,10009.0,1107.0,69811.3],[81,\"The Bahamas\",\"North America\",57602.0,151059.0,2308.0,24953.5],[82,\"Cape Verde\",\"Africa\",28375.0,52152.0,1296.0,21888.1],[83,\"Saint Vincent and the Grenadines\",\"North America\",17871.0,163121.0,732.0,24428.9],[84,\"Afghanistan\",\"Asia\",17364.0,55.0,1333.0,13026.3],[85,\"Bhutan\",\"Asia\",146.0,20079.0,467.0,31252.7],[86,\"Benin\",\"Africa\",12017.0,1058.0,598.0,20095.3],[87,\"Iraq\",\"Asia\",1167.0,297.0,584.0,20.0],[88,\"Saint Lucia\",\"North America\",10.0,55915.0,125.0,80.0],[89,\"Grenada\",\"North America\",7273.0,70388.0,162.0,44822.3],[90,\"Guinea-Bissau\",\"Africa\",6864.0,4331.0,259.0,26498.8],[91,\"Malaysia\",\"Asia\",5714.0,175.0,88.0,65223.8],[92,\"Portugal\",\"Europe\",5429.0,528.0,62.0,88274.4],[93,\"Antigua and Barbuda\",\"North America\",5365.0,6217.0,83.0,64638.6],[94,\"Dominica\",\"North America\",4855.0,68099.0,244.0,19914.4],[95,\"Oman\",\"Asia\",1186.0,237.0,51.0,23432.2],[96,\"Yemen\",\"Asia\",500.0,17.0,50.0,10.0],[97,\"Spain\",\"Europe\",394.0,8.0,9.0,43596.5],[98,\"Lebanon\",\"Asia\",97.0,16.0,3.0,28386.4],[99,\"Djibouti\",\"Africa\",53.0,51.0,null,null],[100,\"Singapore\",\"Asia\",50.0,9.0,2.0,25.0],[101,\"Samoa\",\"Oceania\",12.0,6.0,1.0,11949.8],[102,\"Syria\",\"Asia\",1.0,0.0,0.0,83034.2]],\"geo\":\"geo\",\"hovertemplate\":\"\\u003cb\\u003e%{hovertext}\\u003c\\u002fb\\u003e\\u003cbr\\u003e\\u003cbr\\u003eCountry=%{customdata[1]}\\u003cbr\\u003eUnnamed: 0=%{customdata[0]}\\u003cbr\\u003eContinent=%{customdata[2]}\\u003cbr\\u003eProduction (Tons)=%{z}\\u003cbr\\u003eProduction per Person (Kg)=%{customdata[4]}\\u003cbr\\u003eAcreage (Hectare)=%{customdata[5]}\\u003cbr\\u003eYield (Kg \\u002f Hectare)=%{customdata[6]}\\u003cextra\\u003e\\u003c\\u002fextra\\u003e\",\"hovertext\":[\"Brazil\",\"India\",\"China\",\"Thailand\",\"Pakistan\",\"Mexico\",\"Colombia\",\"Australia\",\"Guatemala\",\"United States of America\",\"Indonesia\",\"Philippines\",\"Argentina\",\"Cuba\",\"Vietnam\",\"Egypt\",\"South Africa\",\"Myanmar\",\"Peru\",\"Ecuador\",\"Iran\",\"El Salvador\",\"Kenya\",\"Bolivia\",\"Nicaragua\",\"Paraguay\",\"Swaziland\",\"Sudan\",\"Honduras\",\"Dominican Republic\",\"Nepal\",\"Zambia\",\"Bangladesh\",\"Costa Rica\",\"Mauritius\",\"Uganda\",\"Zimbabwe\",\"Venezuela\",\"Madagascar\",\"Tanzania\",\"Malawi\",\"Mozambique\",\"Panama\",\"Guyana\",\"Congo-Kinshasa\",\"Laos\",\"C\\u00f4te d'Ivoire\",\"Japan\",\"Fiji\",\"Haiti\",\"Belize\",\"Jamaica\",\"Ethiopia\",\"Nigeria\",\"Cameroon\",\"Trinidad and Tobago\",\"Sri Lanka\",\"Senegal\",\"Congo-Brazzaville\",\"Cambodia\",\"Angola\",\"Burkina Faso\",\"Chad\",\"Morocco\",\"Taiwan\",\"Uruguay\",\"Mali\",\"Guinea\",\"Gabon\",\"Liberia\",\"Burundi\",\"Papua New Guinea\",\"Niger\",\"Somalia\",\"Ghana\",\"Suriname\",\"Central African Republic\",\"Saint Kitts and Nevis\",\"Rwanda\",\"Barbados\",\"Sierra Leone\",\"The Bahamas\",\"Cape Verde\",\"Saint Vincent and the Grenadines\",\"Afghanistan\",\"Bhutan\",\"Benin\",\"Iraq\",\"Saint Lucia\",\"Grenada\",\"Guinea-Bissau\",\"Malaysia\",\"Portugal\",\"Antigua and Barbuda\",\"Dominica\",\"Oman\",\"Yemen\",\"Spain\",\"Lebanon\",\"Djibouti\",\"Singapore\",\"Samoa\",\"Syria\"],\"locationmode\":\"country names\",\"locations\":[\"Brazil\",\"India\",\"China\",\"Thailand\",\"Pakistan\",\"Mexico\",\"Colombia\",\"Australia\",\"Guatemala\",\"United States of America\",\"Indonesia\",\"Philippines\",\"Argentina\",\"Cuba\",\"Vietnam\",\"Egypt\",\"South Africa\",\"Myanmar\",\"Peru\",\"Ecuador\",\"Iran\",\"El Salvador\",\"Kenya\",\"Bolivia\",\"Nicaragua\",\"Paraguay\",\"Swaziland\",\"Sudan\",\"Honduras\",\"Dominican Republic\",\"Nepal\",\"Zambia\",\"Bangladesh\",\"Costa Rica\",\"Mauritius\",\"Uganda\",\"Zimbabwe\",\"Venezuela\",\"Madagascar\",\"Tanzania\",\"Malawi\",\"Mozambique\",\"Panama\",\"Guyana\",\"Congo-Kinshasa\",\"Laos\",\"C\\u00f4te d'Ivoire\",\"Japan\",\"Fiji\",\"Haiti\",\"Belize\",\"Jamaica\",\"Ethiopia\",\"Nigeria\",\"Cameroon\",\"Trinidad and Tobago\",\"Sri Lanka\",\"Senegal\",\"Congo-Brazzaville\",\"Cambodia\",\"Angola\",\"Burkina Faso\",\"Chad\",\"Morocco\",\"Taiwan\",\"Uruguay\",\"Mali\",\"Guinea\",\"Gabon\",\"Liberia\",\"Burundi\",\"Papua New Guinea\",\"Niger\",\"Somalia\",\"Ghana\",\"Suriname\",\"Central African Republic\",\"Saint Kitts and Nevis\",\"Rwanda\",\"Barbados\",\"Sierra Leone\",\"The Bahamas\",\"Cape Verde\",\"Saint Vincent and the Grenadines\",\"Afghanistan\",\"Bhutan\",\"Benin\",\"Iraq\",\"Saint Lucia\",\"Grenada\",\"Guinea-Bissau\",\"Malaysia\",\"Portugal\",\"Antigua and Barbuda\",\"Dominica\",\"Oman\",\"Yemen\",\"Spain\",\"Lebanon\",\"Djibouti\",\"Singapore\",\"Samoa\",\"Syria\"],\"name\":\"\",\"z\":[768678382.0,348448000.0,123059739.0,87468496.0,65450704.0,56446821.0,36951213.0,34403004.0,33533403.0,29926210.0,27158830.0,22370546.0,21990823.0,18890972.0,16313145.0,15760418.0,15074610.0,10437058.0,9832526.0,8661609.0,7687593.0,7202141.0,7094619.0,6910805.0,6815147.0,6708000.0,5583295.0,5525059.0,5355700.0,4717490.0,4346754.0,4285839.0,4207592.0,4158370.0,3798448.0,3723019.0,3483000.0,3331252.0,3005641.0,2994127.0,2915406.0,2761505.0,2419638.0,2394553.0,2191333.0,2019000.0,1982661.0,1574000.0,1556692.0,1472712.0,1457656.0,1422432.0,1410312.0,1337572.0,1288732.0,810.0,747907.0,696992.0,687365.0,610878.0,556094.0,484872.0,455986.0,426503.0,3958.0,3677.0,365119.0,304975.0,286466.0,272804.0,218115.0,217866.0,216037.0,21062.0,152136.0,125286.0,103002.0,100.0,93823.0,83369.0,77269.0,57602.0,28375.0,17871.0,17364.0,146.0,12017.0,1167.0,10.0,7273.0,6864.0,5714.0,5429.0,5365.0,4855.0,1186.0,500.0,394.0,97.0,53.0,50.0,12.0,1.0],\"type\":\"choropleth\"}],                        {\"template\":{\"data\":{\"histogram2dcontour\":[{\"type\":\"histogram2dcontour\",\"colorbar\":{\"outlinewidth\":0,\"ticks\":\"\"},\"colorscale\":[[0.0,\"#0d0887\"],[0.1111111111111111,\"#46039f\"],[0.2222222222222222,\"#7201a8\"],[0.3333333333333333,\"#9c179e\"],[0.4444444444444444,\"#bd3786\"],[0.5555555555555556,\"#d8576b\"],[0.6666666666666666,\"#ed7953\"],[0.7777777777777778,\"#fb9f3a\"],[0.8888888888888888,\"#fdca26\"],[1.0,\"#f0f921\"]]}],\"choropleth\":[{\"type\":\"choropleth\",\"colorbar\":{\"outlinewidth\":0,\"ticks\":\"\"}}],\"histogram2d\":[{\"type\":\"histogram2d\",\"colorbar\":{\"outlinewidth\":0,\"ticks\":\"\"},\"colorscale\":[[0.0,\"#0d0887\"],[0.1111111111111111,\"#46039f\"],[0.2222222222222222,\"#7201a8\"],[0.3333333333333333,\"#9c179e\"],[0.4444444444444444,\"#bd3786\"],[0.5555555555555556,\"#d8576b\"],[0.6666666666666666,\"#ed7953\"],[0.7777777777777778,\"#fb9f3a\"],[0.8888888888888888,\"#fdca26\"],[1.0,\"#f0f921\"]]}],\"heatmap\":[{\"type\":\"heatmap\",\"colorbar\":{\"outlinewidth\":0,\"ticks\":\"\"},\"colorscale\":[[0.0,\"#0d0887\"],[0.1111111111111111,\"#46039f\"],[0.2222222222222222,\"#7201a8\"],[0.3333333333333333,\"#9c179e\"],[0.4444444444444444,\"#bd3786\"],[0.5555555555555556,\"#d8576b\"],[0.6666666666666666,\"#ed7953\"],[0.7777777777777778,\"#fb9f3a\"],[0.8888888888888888,\"#fdca26\"],[1.0,\"#f0f921\"]]}],\"heatmapgl\":[{\"type\":\"heatmapgl\",\"colorbar\":{\"outlinewidth\":0,\"ticks\":\"\"},\"colorscale\":[[0.0,\"#0d0887\"],[0.1111111111111111,\"#46039f\"],[0.2222222222222222,\"#7201a8\"],[0.3333333333333333,\"#9c179e\"],[0.4444444444444444,\"#bd3786\"],[0.5555555555555556,\"#d8576b\"],[0.6666666666666666,\"#ed7953\"],[0.7777777777777778,\"#fb9f3a\"],[0.8888888888888888,\"#fdca26\"],[1.0,\"#f0f921\"]]}],\"contourcarpet\":[{\"type\":\"contourcarpet\",\"colorbar\":{\"outlinewidth\":0,\"ticks\":\"\"}}],\"contour\":[{\"type\":\"contour\",\"colorbar\":{\"outlinewidth\":0,\"ticks\":\"\"},\"colorscale\":[[0.0,\"#0d0887\"],[0.1111111111111111,\"#46039f\"],[0.2222222222222222,\"#7201a8\"],[0.3333333333333333,\"#9c179e\"],[0.4444444444444444,\"#bd3786\"],[0.5555555555555556,\"#d8576b\"],[0.6666666666666666,\"#ed7953\"],[0.7777777777777778,\"#fb9f3a\"],[0.8888888888888888,\"#fdca26\"],[1.0,\"#f0f921\"]]}],\"surface\":[{\"type\":\"surface\",\"colorbar\":{\"outlinewidth\":0,\"ticks\":\"\"},\"colorscale\":[[0.0,\"#0d0887\"],[0.1111111111111111,\"#46039f\"],[0.2222222222222222,\"#7201a8\"],[0.3333333333333333,\"#9c179e\"],[0.4444444444444444,\"#bd3786\"],[0.5555555555555556,\"#d8576b\"],[0.6666666666666666,\"#ed7953\"],[0.7777777777777778,\"#fb9f3a\"],[0.8888888888888888,\"#fdca26\"],[1.0,\"#f0f921\"]]}],\"mesh3d\":[{\"type\":\"mesh3d\",\"colorbar\":{\"outlinewidth\":0,\"ticks\":\"\"}}],\"scatter\":[{\"fillpattern\":{\"fillmode\":\"overlay\",\"size\":10,\"solidity\":0.2},\"type\":\"scatter\"}],\"parcoords\":[{\"type\":\"parcoords\",\"line\":{\"colorbar\":{\"outlinewidth\":0,\"ticks\":\"\"}}}],\"scatterpolargl\":[{\"type\":\"scatterpolargl\",\"marker\":{\"colorbar\":{\"outlinewidth\":0,\"ticks\":\"\"}}}],\"bar\":[{\"error_x\":{\"color\":\"#2a3f5f\"},\"error_y\":{\"color\":\"#2a3f5f\"},\"marker\":{\"line\":{\"color\":\"#E5ECF6\",\"width\":0.5},\"pattern\":{\"fillmode\":\"overlay\",\"size\":10,\"solidity\":0.2}},\"type\":\"bar\"}],\"scattergeo\":[{\"type\":\"scattergeo\",\"marker\":{\"colorbar\":{\"outlinewidth\":0,\"ticks\":\"\"}}}],\"scatterpolar\":[{\"type\":\"scatterpolar\",\"marker\":{\"colorbar\":{\"outlinewidth\":0,\"ticks\":\"\"}}}],\"histogram\":[{\"marker\":{\"pattern\":{\"fillmode\":\"overlay\",\"size\":10,\"solidity\":0.2}},\"type\":\"histogram\"}],\"scattergl\":[{\"type\":\"scattergl\",\"marker\":{\"colorbar\":{\"outlinewidth\":0,\"ticks\":\"\"}}}],\"scatter3d\":[{\"type\":\"scatter3d\",\"line\":{\"colorbar\":{\"outlinewidth\":0,\"ticks\":\"\"}},\"marker\":{\"colorbar\":{\"outlinewidth\":0,\"ticks\":\"\"}}}],\"scattermapbox\":[{\"type\":\"scattermapbox\",\"marker\":{\"colorbar\":{\"outlinewidth\":0,\"ticks\":\"\"}}}],\"scatterternary\":[{\"type\":\"scatterternary\",\"marker\":{\"colorbar\":{\"outlinewidth\":0,\"ticks\":\"\"}}}],\"scattercarpet\":[{\"type\":\"scattercarpet\",\"marker\":{\"colorbar\":{\"outlinewidth\":0,\"ticks\":\"\"}}}],\"carpet\":[{\"aaxis\":{\"endlinecolor\":\"#2a3f5f\",\"gridcolor\":\"white\",\"linecolor\":\"white\",\"minorgridcolor\":\"white\",\"startlinecolor\":\"#2a3f5f\"},\"baxis\":{\"endlinecolor\":\"#2a3f5f\",\"gridcolor\":\"white\",\"linecolor\":\"white\",\"minorgridcolor\":\"white\",\"startlinecolor\":\"#2a3f5f\"},\"type\":\"carpet\"}],\"table\":[{\"cells\":{\"fill\":{\"color\":\"#EBF0F8\"},\"line\":{\"color\":\"white\"}},\"header\":{\"fill\":{\"color\":\"#C8D4E3\"},\"line\":{\"color\":\"white\"}},\"type\":\"table\"}],\"barpolar\":[{\"marker\":{\"line\":{\"color\":\"#E5ECF6\",\"width\":0.5},\"pattern\":{\"fillmode\":\"overlay\",\"size\":10,\"solidity\":0.2}},\"type\":\"barpolar\"}],\"pie\":[{\"automargin\":true,\"type\":\"pie\"}]},\"layout\":{\"autotypenumbers\":\"strict\",\"colorway\":[\"#636efa\",\"#EF553B\",\"#00cc96\",\"#ab63fa\",\"#FFA15A\",\"#19d3f3\",\"#FF6692\",\"#B6E880\",\"#FF97FF\",\"#FECB52\"],\"font\":{\"color\":\"#2a3f5f\"},\"hovermode\":\"closest\",\"hoverlabel\":{\"align\":\"left\"},\"paper_bgcolor\":\"white\",\"plot_bgcolor\":\"#E5ECF6\",\"polar\":{\"bgcolor\":\"#E5ECF6\",\"angularaxis\":{\"gridcolor\":\"white\",\"linecolor\":\"white\",\"ticks\":\"\"},\"radialaxis\":{\"gridcolor\":\"white\",\"linecolor\":\"white\",\"ticks\":\"\"}},\"ternary\":{\"bgcolor\":\"#E5ECF6\",\"aaxis\":{\"gridcolor\":\"white\",\"linecolor\":\"white\",\"ticks\":\"\"},\"baxis\":{\"gridcolor\":\"white\",\"linecolor\":\"white\",\"ticks\":\"\"},\"caxis\":{\"gridcolor\":\"white\",\"linecolor\":\"white\",\"ticks\":\"\"}},\"coloraxis\":{\"colorbar\":{\"outlinewidth\":0,\"ticks\":\"\"}},\"colorscale\":{\"sequential\":[[0.0,\"#0d0887\"],[0.1111111111111111,\"#46039f\"],[0.2222222222222222,\"#7201a8\"],[0.3333333333333333,\"#9c179e\"],[0.4444444444444444,\"#bd3786\"],[0.5555555555555556,\"#d8576b\"],[0.6666666666666666,\"#ed7953\"],[0.7777777777777778,\"#fb9f3a\"],[0.8888888888888888,\"#fdca26\"],[1.0,\"#f0f921\"]],\"sequentialminus\":[[0.0,\"#0d0887\"],[0.1111111111111111,\"#46039f\"],[0.2222222222222222,\"#7201a8\"],[0.3333333333333333,\"#9c179e\"],[0.4444444444444444,\"#bd3786\"],[0.5555555555555556,\"#d8576b\"],[0.6666666666666666,\"#ed7953\"],[0.7777777777777778,\"#fb9f3a\"],[0.8888888888888888,\"#fdca26\"],[1.0,\"#f0f921\"]],\"diverging\":[[0,\"#8e0152\"],[0.1,\"#c51b7d\"],[0.2,\"#de77ae\"],[0.3,\"#f1b6da\"],[0.4,\"#fde0ef\"],[0.5,\"#f7f7f7\"],[0.6,\"#e6f5d0\"],[0.7,\"#b8e186\"],[0.8,\"#7fbc41\"],[0.9,\"#4d9221\"],[1,\"#276419\"]]},\"xaxis\":{\"gridcolor\":\"white\",\"linecolor\":\"white\",\"ticks\":\"\",\"title\":{\"standoff\":15},\"zerolinecolor\":\"white\",\"automargin\":true,\"zerolinewidth\":2},\"yaxis\":{\"gridcolor\":\"white\",\"linecolor\":\"white\",\"ticks\":\"\",\"title\":{\"standoff\":15},\"zerolinecolor\":\"white\",\"automargin\":true,\"zerolinewidth\":2},\"scene\":{\"xaxis\":{\"backgroundcolor\":\"#E5ECF6\",\"gridcolor\":\"white\",\"linecolor\":\"white\",\"showbackground\":true,\"ticks\":\"\",\"zerolinecolor\":\"white\",\"gridwidth\":2},\"yaxis\":{\"backgroundcolor\":\"#E5ECF6\",\"gridcolor\":\"white\",\"linecolor\":\"white\",\"showbackground\":true,\"ticks\":\"\",\"zerolinecolor\":\"white\",\"gridwidth\":2},\"zaxis\":{\"backgroundcolor\":\"#E5ECF6\",\"gridcolor\":\"white\",\"linecolor\":\"white\",\"showbackground\":true,\"ticks\":\"\",\"zerolinecolor\":\"white\",\"gridwidth\":2}},\"shapedefaults\":{\"line\":{\"color\":\"#2a3f5f\"}},\"annotationdefaults\":{\"arrowcolor\":\"#2a3f5f\",\"arrowhead\":0,\"arrowwidth\":1},\"geo\":{\"bgcolor\":\"white\",\"landcolor\":\"#E5ECF6\",\"subunitcolor\":\"white\",\"showland\":true,\"showlakes\":true,\"lakecolor\":\"white\"},\"title\":{\"x\":0.05},\"mapbox\":{\"style\":\"light\"}}},\"geo\":{\"domain\":{\"x\":[0.0,1.0],\"y\":[0.0,1.0]},\"center\":{}},\"coloraxis\":{\"colorbar\":{\"title\":{\"text\":\"Production (Tons)\"}},\"colorscale\":[[0.0,\"#0d0887\"],[0.1111111111111111,\"#46039f\"],[0.2222222222222222,\"#7201a8\"],[0.3333333333333333,\"#9c179e\"],[0.4444444444444444,\"#bd3786\"],[0.5555555555555556,\"#d8576b\"],[0.6666666666666666,\"#ed7953\"],[0.7777777777777778,\"#fb9f3a\"],[0.8888888888888888,\"#fdca26\"],[1.0,\"#f0f921\"]]},\"legend\":{\"tracegroupgap\":0},\"title\":{\"text\":\"Map of countries and their production of Sugarcane\"}},                        {\"responsive\": true}                    ).then(function(){\n",
       "                            \n",
       "var gd = document.getElementById('892dc67d-dd91-42f0-90fb-5a941e17e53b');\n",
       "var x = new MutationObserver(function (mutations, observer) {{\n",
       "        var display = window.getComputedStyle(gd).display;\n",
       "        if (!display || display === 'none') {{\n",
       "            console.log([gd, 'removed!']);\n",
       "            Plotly.purge(gd);\n",
       "            observer.disconnect();\n",
       "        }}\n",
       "}});\n",
       "\n",
       "// Listen for the removal of the full notebook cells\n",
       "var notebookContainer = gd.closest('#notebook-container');\n",
       "if (notebookContainer) {{\n",
       "    x.observe(notebookContainer, {childList: true});\n",
       "}}\n",
       "\n",
       "// Listen for the clearing of the current output cell\n",
       "var outputEl = gd.closest('.output');\n",
       "if (outputEl) {{\n",
       "    x.observe(outputEl, {childList: true});\n",
       "}}\n",
       "\n",
       "                        })                };                });            </script>        </div>"
      ]
     },
     "metadata": {},
     "output_type": "display_data"
    }
   ],
   "source": [
    "import plotly.express as px\n",
    "fig = px.choropleth(data, locations=\"Country\",\n",
    "                    color=\"Production (Tons)\",\n",
    "                    locationmode='country names',\n",
    "                    hover_name=\"Country\",\n",
    "                    hover_data = data.columns,\n",
    "                    labels = {'production_(tons)':'Production (Tons)'},\n",
    "                    title = 'Map of countries and their production of Sugarcane'\n",
    "                    )\n",
    "fig.show()"
   ]
  },
  {
   "cell_type": "code",
   "execution_count": null,
   "id": "32a86ef9",
   "metadata": {},
   "outputs": [],
   "source": []
  }
 ],
 "metadata": {
  "kernelspec": {
   "display_name": "Python 3 (ipykernel)",
   "language": "python",
   "name": "python3"
  },
  "language_info": {
   "codemirror_mode": {
    "name": "ipython",
    "version": 3
   },
   "file_extension": ".py",
   "mimetype": "text/x-python",
   "name": "python",
   "nbconvert_exporter": "python",
   "pygments_lexer": "ipython3",
   "version": "3.12.1"
  }
 },
 "nbformat": 4,
 "nbformat_minor": 5
}
